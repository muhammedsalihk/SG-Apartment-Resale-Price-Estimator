{
 "cells": [
  {
   "cell_type": "markdown",
   "metadata": {},
   "source": [
    "## **Singapore House Resale Price Prediction**"
   ]
  },
  {
   "cell_type": "markdown",
   "metadata": {},
   "source": [
    "In Singapore, the housing development board provides apartments of different sizes which can be leased by Singapore citizens and Permanent Residents for a period of 100 years. The resale of these apartments for the remaining period of the lease also happens regularly and detailed data on the resale transactions is made available publicly.\n",
    "\n",
    "<p>\n",
    "  <img src=https://upload.wikimedia.org/wikipedia/commons/d/d3/HDB_flats_in_Singapore_2.jpg width= 34% />\n",
    "  <img src=https://www.asiaone.com/sites/default/files/original_images/Jul2017/hdbflats_040717_st.jpg width=25.5% /> \n",
    "  <img src=https://www.renonation.sg/wp-content/uploads/The-80s-Studio-Tampines-HDB-Maisonette-8.jpg width=27% />  \n",
    "</p>\n",
    "\n",
    "In this project, we will try to build a regression model that can predict the resale prices for different apartments based on features like its location(i.e. the town in which it is located), the number of rooms, the floor area etc."
   ]
  },
  {
   "cell_type": "markdown",
   "metadata": {},
   "source": [
    "Before we start, let's import the basic packages we require for importing, handling and visualising the data."
   ]
  },
  {
   "cell_type": "markdown",
   "metadata": {},
   "source": [
    "## Importing Data and Preliminary Analysis"
   ]
  },
  {
   "cell_type": "code",
   "execution_count": 5,
   "metadata": {},
   "outputs": [],
   "source": [
    "import pandas as pd\n",
    "import numpy as np\n",
    "import matplotlib.pyplot as plt\n",
    "import seaborn as sns"
   ]
  },
  {
   "cell_type": "markdown",
   "metadata": {},
   "source": [
    "The data has been downloaded from a [Singapore government website](https://data.gov.sg/dataset/resale-flat-prices \"Data Source for the project\") and has been stored locally on the system. We will import the data as a pandas dataframe."
   ]
  },
  {
   "cell_type": "code",
   "execution_count": 6,
   "metadata": {},
   "outputs": [],
   "source": [
    "df = pd.read_csv('resale-flat-prices-based-on-registration-date-from-jan-2017-onwards.csv')"
   ]
  },
  {
   "cell_type": "code",
   "execution_count": 7,
   "metadata": {},
   "outputs": [
    {
     "data": {
      "text/html": [
       "<div>\n",
       "<style scoped>\n",
       "    .dataframe tbody tr th:only-of-type {\n",
       "        vertical-align: middle;\n",
       "    }\n",
       "\n",
       "    .dataframe tbody tr th {\n",
       "        vertical-align: top;\n",
       "    }\n",
       "\n",
       "    .dataframe thead th {\n",
       "        text-align: right;\n",
       "    }\n",
       "</style>\n",
       "<table border=\"1\" class=\"dataframe\">\n",
       "  <thead>\n",
       "    <tr style=\"text-align: right;\">\n",
       "      <th></th>\n",
       "      <th>month</th>\n",
       "      <th>town</th>\n",
       "      <th>flat_type</th>\n",
       "      <th>block</th>\n",
       "      <th>street_name</th>\n",
       "      <th>storey_range</th>\n",
       "      <th>floor_area_sqm</th>\n",
       "      <th>flat_model</th>\n",
       "      <th>lease_commence_date</th>\n",
       "      <th>remaining_lease</th>\n",
       "      <th>resale_price</th>\n",
       "    </tr>\n",
       "  </thead>\n",
       "  <tbody>\n",
       "    <tr>\n",
       "      <th>0</th>\n",
       "      <td>2017-01</td>\n",
       "      <td>ANG MO KIO</td>\n",
       "      <td>2 ROOM</td>\n",
       "      <td>406</td>\n",
       "      <td>ANG MO KIO AVE 10</td>\n",
       "      <td>10 TO 12</td>\n",
       "      <td>44.0</td>\n",
       "      <td>Improved</td>\n",
       "      <td>1979</td>\n",
       "      <td>61 years 04 months</td>\n",
       "      <td>232000.0</td>\n",
       "    </tr>\n",
       "    <tr>\n",
       "      <th>1</th>\n",
       "      <td>2017-01</td>\n",
       "      <td>ANG MO KIO</td>\n",
       "      <td>3 ROOM</td>\n",
       "      <td>108</td>\n",
       "      <td>ANG MO KIO AVE 4</td>\n",
       "      <td>01 TO 03</td>\n",
       "      <td>67.0</td>\n",
       "      <td>New Generation</td>\n",
       "      <td>1978</td>\n",
       "      <td>60 years 07 months</td>\n",
       "      <td>250000.0</td>\n",
       "    </tr>\n",
       "    <tr>\n",
       "      <th>2</th>\n",
       "      <td>2017-01</td>\n",
       "      <td>ANG MO KIO</td>\n",
       "      <td>3 ROOM</td>\n",
       "      <td>602</td>\n",
       "      <td>ANG MO KIO AVE 5</td>\n",
       "      <td>01 TO 03</td>\n",
       "      <td>67.0</td>\n",
       "      <td>New Generation</td>\n",
       "      <td>1980</td>\n",
       "      <td>62 years 05 months</td>\n",
       "      <td>262000.0</td>\n",
       "    </tr>\n",
       "    <tr>\n",
       "      <th>3</th>\n",
       "      <td>2017-01</td>\n",
       "      <td>ANG MO KIO</td>\n",
       "      <td>3 ROOM</td>\n",
       "      <td>465</td>\n",
       "      <td>ANG MO KIO AVE 10</td>\n",
       "      <td>04 TO 06</td>\n",
       "      <td>68.0</td>\n",
       "      <td>New Generation</td>\n",
       "      <td>1980</td>\n",
       "      <td>62 years 01 month</td>\n",
       "      <td>265000.0</td>\n",
       "    </tr>\n",
       "    <tr>\n",
       "      <th>4</th>\n",
       "      <td>2017-01</td>\n",
       "      <td>ANG MO KIO</td>\n",
       "      <td>3 ROOM</td>\n",
       "      <td>601</td>\n",
       "      <td>ANG MO KIO AVE 5</td>\n",
       "      <td>01 TO 03</td>\n",
       "      <td>67.0</td>\n",
       "      <td>New Generation</td>\n",
       "      <td>1980</td>\n",
       "      <td>62 years 05 months</td>\n",
       "      <td>265000.0</td>\n",
       "    </tr>\n",
       "  </tbody>\n",
       "</table>\n",
       "</div>"
      ],
      "text/plain": [
       "     month        town flat_type block        street_name storey_range  \\\n",
       "0  2017-01  ANG MO KIO    2 ROOM   406  ANG MO KIO AVE 10     10 TO 12   \n",
       "1  2017-01  ANG MO KIO    3 ROOM   108   ANG MO KIO AVE 4     01 TO 03   \n",
       "2  2017-01  ANG MO KIO    3 ROOM   602   ANG MO KIO AVE 5     01 TO 03   \n",
       "3  2017-01  ANG MO KIO    3 ROOM   465  ANG MO KIO AVE 10     04 TO 06   \n",
       "4  2017-01  ANG MO KIO    3 ROOM   601   ANG MO KIO AVE 5     01 TO 03   \n",
       "\n",
       "   floor_area_sqm      flat_model  lease_commence_date     remaining_lease  \\\n",
       "0            44.0        Improved                 1979  61 years 04 months   \n",
       "1            67.0  New Generation                 1978  60 years 07 months   \n",
       "2            67.0  New Generation                 1980  62 years 05 months   \n",
       "3            68.0  New Generation                 1980   62 years 01 month   \n",
       "4            67.0  New Generation                 1980  62 years 05 months   \n",
       "\n",
       "   resale_price  \n",
       "0      232000.0  \n",
       "1      250000.0  \n",
       "2      262000.0  \n",
       "3      265000.0  \n",
       "4      265000.0  "
      ]
     },
     "execution_count": 7,
     "metadata": {},
     "output_type": "execute_result"
    }
   ],
   "source": [
    "df.head()"
   ]
  },
  {
   "cell_type": "markdown",
   "metadata": {},
   "source": [
    "We have **11 columns** in our data set and we are trying to predict the **resale price**. First let's have a basic overview of the data"
   ]
  },
  {
   "cell_type": "code",
   "execution_count": 8,
   "metadata": {},
   "outputs": [
    {
     "data": {
      "text/html": [
       "<div>\n",
       "<style scoped>\n",
       "    .dataframe tbody tr th:only-of-type {\n",
       "        vertical-align: middle;\n",
       "    }\n",
       "\n",
       "    .dataframe tbody tr th {\n",
       "        vertical-align: top;\n",
       "    }\n",
       "\n",
       "    .dataframe thead th {\n",
       "        text-align: right;\n",
       "    }\n",
       "</style>\n",
       "<table border=\"1\" class=\"dataframe\">\n",
       "  <thead>\n",
       "    <tr style=\"text-align: right;\">\n",
       "      <th></th>\n",
       "      <th>month</th>\n",
       "      <th>town</th>\n",
       "      <th>flat_type</th>\n",
       "      <th>block</th>\n",
       "      <th>street_name</th>\n",
       "      <th>storey_range</th>\n",
       "      <th>floor_area_sqm</th>\n",
       "      <th>flat_model</th>\n",
       "      <th>lease_commence_date</th>\n",
       "      <th>remaining_lease</th>\n",
       "      <th>resale_price</th>\n",
       "    </tr>\n",
       "  </thead>\n",
       "  <tbody>\n",
       "    <tr>\n",
       "      <th>count</th>\n",
       "      <td>70104</td>\n",
       "      <td>70104</td>\n",
       "      <td>70104</td>\n",
       "      <td>70104</td>\n",
       "      <td>70104</td>\n",
       "      <td>70104</td>\n",
       "      <td>70104.000000</td>\n",
       "      <td>70104</td>\n",
       "      <td>70104.000000</td>\n",
       "      <td>70104</td>\n",
       "      <td>7.010400e+04</td>\n",
       "    </tr>\n",
       "    <tr>\n",
       "      <th>unique</th>\n",
       "      <td>39</td>\n",
       "      <td>26</td>\n",
       "      <td>7</td>\n",
       "      <td>2409</td>\n",
       "      <td>543</td>\n",
       "      <td>17</td>\n",
       "      <td>NaN</td>\n",
       "      <td>20</td>\n",
       "      <td>NaN</td>\n",
       "      <td>616</td>\n",
       "      <td>NaN</td>\n",
       "    </tr>\n",
       "    <tr>\n",
       "      <th>top</th>\n",
       "      <td>2018-07</td>\n",
       "      <td>WOODLANDS</td>\n",
       "      <td>4 ROOM</td>\n",
       "      <td>8</td>\n",
       "      <td>YISHUN RING RD</td>\n",
       "      <td>04 TO 06</td>\n",
       "      <td>NaN</td>\n",
       "      <td>Model A</td>\n",
       "      <td>NaN</td>\n",
       "      <td>94 years 10 months</td>\n",
       "      <td>NaN</td>\n",
       "    </tr>\n",
       "    <tr>\n",
       "      <th>freq</th>\n",
       "      <td>2539</td>\n",
       "      <td>5543</td>\n",
       "      <td>29132</td>\n",
       "      <td>241</td>\n",
       "      <td>1124</td>\n",
       "      <td>16243</td>\n",
       "      <td>NaN</td>\n",
       "      <td>22817</td>\n",
       "      <td>NaN</td>\n",
       "      <td>509</td>\n",
       "      <td>NaN</td>\n",
       "    </tr>\n",
       "    <tr>\n",
       "      <th>mean</th>\n",
       "      <td>NaN</td>\n",
       "      <td>NaN</td>\n",
       "      <td>NaN</td>\n",
       "      <td>NaN</td>\n",
       "      <td>NaN</td>\n",
       "      <td>NaN</td>\n",
       "      <td>97.713782</td>\n",
       "      <td>NaN</td>\n",
       "      <td>1993.795261</td>\n",
       "      <td>NaN</td>\n",
       "      <td>4.383990e+05</td>\n",
       "    </tr>\n",
       "    <tr>\n",
       "      <th>std</th>\n",
       "      <td>NaN</td>\n",
       "      <td>NaN</td>\n",
       "      <td>NaN</td>\n",
       "      <td>NaN</td>\n",
       "      <td>NaN</td>\n",
       "      <td>NaN</td>\n",
       "      <td>24.243663</td>\n",
       "      <td>NaN</td>\n",
       "      <td>12.584658</td>\n",
       "      <td>NaN</td>\n",
       "      <td>1.533185e+05</td>\n",
       "    </tr>\n",
       "    <tr>\n",
       "      <th>min</th>\n",
       "      <td>NaN</td>\n",
       "      <td>NaN</td>\n",
       "      <td>NaN</td>\n",
       "      <td>NaN</td>\n",
       "      <td>NaN</td>\n",
       "      <td>NaN</td>\n",
       "      <td>31.000000</td>\n",
       "      <td>NaN</td>\n",
       "      <td>1966.000000</td>\n",
       "      <td>NaN</td>\n",
       "      <td>1.400000e+05</td>\n",
       "    </tr>\n",
       "    <tr>\n",
       "      <th>25%</th>\n",
       "      <td>NaN</td>\n",
       "      <td>NaN</td>\n",
       "      <td>NaN</td>\n",
       "      <td>NaN</td>\n",
       "      <td>NaN</td>\n",
       "      <td>NaN</td>\n",
       "      <td>82.000000</td>\n",
       "      <td>NaN</td>\n",
       "      <td>1984.000000</td>\n",
       "      <td>NaN</td>\n",
       "      <td>3.288880e+05</td>\n",
       "    </tr>\n",
       "    <tr>\n",
       "      <th>50%</th>\n",
       "      <td>NaN</td>\n",
       "      <td>NaN</td>\n",
       "      <td>NaN</td>\n",
       "      <td>NaN</td>\n",
       "      <td>NaN</td>\n",
       "      <td>NaN</td>\n",
       "      <td>95.000000</td>\n",
       "      <td>NaN</td>\n",
       "      <td>1993.000000</td>\n",
       "      <td>NaN</td>\n",
       "      <td>4.070000e+05</td>\n",
       "    </tr>\n",
       "    <tr>\n",
       "      <th>75%</th>\n",
       "      <td>NaN</td>\n",
       "      <td>NaN</td>\n",
       "      <td>NaN</td>\n",
       "      <td>NaN</td>\n",
       "      <td>NaN</td>\n",
       "      <td>NaN</td>\n",
       "      <td>112.000000</td>\n",
       "      <td>NaN</td>\n",
       "      <td>2003.000000</td>\n",
       "      <td>NaN</td>\n",
       "      <td>5.100000e+05</td>\n",
       "    </tr>\n",
       "    <tr>\n",
       "      <th>max</th>\n",
       "      <td>NaN</td>\n",
       "      <td>NaN</td>\n",
       "      <td>NaN</td>\n",
       "      <td>NaN</td>\n",
       "      <td>NaN</td>\n",
       "      <td>NaN</td>\n",
       "      <td>249.000000</td>\n",
       "      <td>NaN</td>\n",
       "      <td>2016.000000</td>\n",
       "      <td>NaN</td>\n",
       "      <td>1.232000e+06</td>\n",
       "    </tr>\n",
       "  </tbody>\n",
       "</table>\n",
       "</div>"
      ],
      "text/plain": [
       "          month       town flat_type  block     street_name storey_range  \\\n",
       "count     70104      70104     70104  70104           70104        70104   \n",
       "unique       39         26         7   2409             543           17   \n",
       "top     2018-07  WOODLANDS    4 ROOM      8  YISHUN RING RD     04 TO 06   \n",
       "freq       2539       5543     29132    241            1124        16243   \n",
       "mean        NaN        NaN       NaN    NaN             NaN          NaN   \n",
       "std         NaN        NaN       NaN    NaN             NaN          NaN   \n",
       "min         NaN        NaN       NaN    NaN             NaN          NaN   \n",
       "25%         NaN        NaN       NaN    NaN             NaN          NaN   \n",
       "50%         NaN        NaN       NaN    NaN             NaN          NaN   \n",
       "75%         NaN        NaN       NaN    NaN             NaN          NaN   \n",
       "max         NaN        NaN       NaN    NaN             NaN          NaN   \n",
       "\n",
       "        floor_area_sqm flat_model  lease_commence_date     remaining_lease  \\\n",
       "count     70104.000000      70104         70104.000000               70104   \n",
       "unique             NaN         20                  NaN                 616   \n",
       "top                NaN    Model A                  NaN  94 years 10 months   \n",
       "freq               NaN      22817                  NaN                 509   \n",
       "mean         97.713782        NaN          1993.795261                 NaN   \n",
       "std          24.243663        NaN            12.584658                 NaN   \n",
       "min          31.000000        NaN          1966.000000                 NaN   \n",
       "25%          82.000000        NaN          1984.000000                 NaN   \n",
       "50%          95.000000        NaN          1993.000000                 NaN   \n",
       "75%         112.000000        NaN          2003.000000                 NaN   \n",
       "max         249.000000        NaN          2016.000000                 NaN   \n",
       "\n",
       "        resale_price  \n",
       "count   7.010400e+04  \n",
       "unique           NaN  \n",
       "top              NaN  \n",
       "freq             NaN  \n",
       "mean    4.383990e+05  \n",
       "std     1.533185e+05  \n",
       "min     1.400000e+05  \n",
       "25%     3.288880e+05  \n",
       "50%     4.070000e+05  \n",
       "75%     5.100000e+05  \n",
       "max     1.232000e+06  "
      ]
     },
     "execution_count": 8,
     "metadata": {},
     "output_type": "execute_result"
    }
   ],
   "source": [
    "df.describe(include='all')"
   ]
  },
  {
   "cell_type": "markdown",
   "metadata": {},
   "source": [
    "Fortunately, there is no missing data. But as we can see most of the columns are in the object format and not float or int. And it seems that the data might require some cleaning. Let's consider the different columns and do the necessary preprocessing."
   ]
  },
  {
   "cell_type": "code",
   "execution_count": 9,
   "metadata": {},
   "outputs": [
    {
     "data": {
      "text/plain": [
       "month                   object\n",
       "town                    object\n",
       "flat_type               object\n",
       "block                   object\n",
       "street_name             object\n",
       "storey_range            object\n",
       "floor_area_sqm         float64\n",
       "flat_model              object\n",
       "lease_commence_date      int64\n",
       "remaining_lease         object\n",
       "resale_price           float64\n",
       "dtype: object"
      ]
     },
     "execution_count": 9,
     "metadata": {},
     "output_type": "execute_result"
    }
   ],
   "source": [
    "df.dtypes"
   ]
  },
  {
   "cell_type": "markdown",
   "metadata": {},
   "source": [
    "## Exploratory Data Analysis and Data Wrangling"
   ]
  },
  {
   "cell_type": "markdown",
   "metadata": {},
   "source": [
    "The flat type with the the number of rooms is stored as a string. First let's check what all are the values stored in the column."
   ]
  },
  {
   "cell_type": "code",
   "execution_count": 10,
   "metadata": {},
   "outputs": [
    {
     "data": {
      "text/html": [
       "<div>\n",
       "<style scoped>\n",
       "    .dataframe tbody tr th:only-of-type {\n",
       "        vertical-align: middle;\n",
       "    }\n",
       "\n",
       "    .dataframe tbody tr th {\n",
       "        vertical-align: top;\n",
       "    }\n",
       "\n",
       "    .dataframe thead th {\n",
       "        text-align: right;\n",
       "    }\n",
       "</style>\n",
       "<table border=\"1\" class=\"dataframe\">\n",
       "  <thead>\n",
       "    <tr style=\"text-align: right;\">\n",
       "      <th></th>\n",
       "      <th>floor_area_sqm</th>\n",
       "      <th>lease_commence_date</th>\n",
       "      <th>resale_price</th>\n",
       "    </tr>\n",
       "    <tr>\n",
       "      <th>flat_type</th>\n",
       "      <th></th>\n",
       "      <th></th>\n",
       "      <th></th>\n",
       "    </tr>\n",
       "  </thead>\n",
       "  <tbody>\n",
       "    <tr>\n",
       "      <th>1 ROOM</th>\n",
       "      <td>31.000000</td>\n",
       "      <td>1975.000000</td>\n",
       "      <td>183789.625000</td>\n",
       "    </tr>\n",
       "    <tr>\n",
       "      <th>2 ROOM</th>\n",
       "      <td>45.949087</td>\n",
       "      <td>1996.581172</td>\n",
       "      <td>233364.777137</td>\n",
       "    </tr>\n",
       "    <tr>\n",
       "      <th>3 ROOM</th>\n",
       "      <td>68.265799</td>\n",
       "      <td>1984.365261</td>\n",
       "      <td>307356.564567</td>\n",
       "    </tr>\n",
       "    <tr>\n",
       "      <th>4 ROOM</th>\n",
       "      <td>95.489984</td>\n",
       "      <td>1997.218214</td>\n",
       "      <td>432209.129394</td>\n",
       "    </tr>\n",
       "    <tr>\n",
       "      <th>5 ROOM</th>\n",
       "      <td>118.179967</td>\n",
       "      <td>1997.184915</td>\n",
       "      <td>528232.292763</td>\n",
       "    </tr>\n",
       "    <tr>\n",
       "      <th>EXECUTIVE</th>\n",
       "      <td>144.404515</td>\n",
       "      <td>1993.559835</td>\n",
       "      <td>625316.397820</td>\n",
       "    </tr>\n",
       "    <tr>\n",
       "      <th>MULTI-GENERATION</th>\n",
       "      <td>164.818182</td>\n",
       "      <td>1987.060606</td>\n",
       "      <td>806804.606061</td>\n",
       "    </tr>\n",
       "  </tbody>\n",
       "</table>\n",
       "</div>"
      ],
      "text/plain": [
       "                  floor_area_sqm  lease_commence_date   resale_price\n",
       "flat_type                                                           \n",
       "1 ROOM                 31.000000          1975.000000  183789.625000\n",
       "2 ROOM                 45.949087          1996.581172  233364.777137\n",
       "3 ROOM                 68.265799          1984.365261  307356.564567\n",
       "4 ROOM                 95.489984          1997.218214  432209.129394\n",
       "5 ROOM                118.179967          1997.184915  528232.292763\n",
       "EXECUTIVE             144.404515          1993.559835  625316.397820\n",
       "MULTI-GENERATION      164.818182          1987.060606  806804.606061"
      ]
     },
     "execution_count": 10,
     "metadata": {},
     "output_type": "execute_result"
    }
   ],
   "source": [
    "df.groupby(['flat_type']).mean()"
   ]
  },
  {
   "cell_type": "markdown",
   "metadata": {},
   "source": [
    "From the Singapore housing development board website, we can see that **'Executive' and 'Mult-Generation'** are larger flats with **6 and 7 rooms respectively** (Note that Multi-Generation rooms have a 'study room' which can be customised which has been counted as a room. Also note the room count given under this feature includes bedrooms, living room, dining room and kitchen and not only the bedrooms). \n",
    "\n",
    "So let's change the 'flat_type' feature accordingly and also convert into it into a numerical feature as there is a clear proportionality between this feature and the target variable."
   ]
  },
  {
   "cell_type": "code",
   "execution_count": 11,
   "metadata": {},
   "outputs": [],
   "source": [
    "df['flat_type'].replace('EXECUTIVE','6 ROOM', inplace = True)\n",
    "df['flat_type'].replace('MULTI-GENERATION','7 ROOM', inplace = True)"
   ]
  },
  {
   "cell_type": "code",
   "execution_count": 12,
   "metadata": {},
   "outputs": [
    {
     "data": {
      "text/html": [
       "<div>\n",
       "<style scoped>\n",
       "    .dataframe tbody tr th:only-of-type {\n",
       "        vertical-align: middle;\n",
       "    }\n",
       "\n",
       "    .dataframe tbody tr th {\n",
       "        vertical-align: top;\n",
       "    }\n",
       "\n",
       "    .dataframe thead th {\n",
       "        text-align: right;\n",
       "    }\n",
       "</style>\n",
       "<table border=\"1\" class=\"dataframe\">\n",
       "  <thead>\n",
       "    <tr style=\"text-align: right;\">\n",
       "      <th></th>\n",
       "      <th>floor_area_sqm</th>\n",
       "      <th>lease_commence_date</th>\n",
       "      <th>resale_price</th>\n",
       "    </tr>\n",
       "    <tr>\n",
       "      <th>flat_type</th>\n",
       "      <th></th>\n",
       "      <th></th>\n",
       "      <th></th>\n",
       "    </tr>\n",
       "  </thead>\n",
       "  <tbody>\n",
       "    <tr>\n",
       "      <th>1 ROOM</th>\n",
       "      <td>31.000000</td>\n",
       "      <td>1975.000000</td>\n",
       "      <td>183789.625000</td>\n",
       "    </tr>\n",
       "    <tr>\n",
       "      <th>2 ROOM</th>\n",
       "      <td>45.949087</td>\n",
       "      <td>1996.581172</td>\n",
       "      <td>233364.777137</td>\n",
       "    </tr>\n",
       "    <tr>\n",
       "      <th>3 ROOM</th>\n",
       "      <td>68.265799</td>\n",
       "      <td>1984.365261</td>\n",
       "      <td>307356.564567</td>\n",
       "    </tr>\n",
       "    <tr>\n",
       "      <th>4 ROOM</th>\n",
       "      <td>95.489984</td>\n",
       "      <td>1997.218214</td>\n",
       "      <td>432209.129394</td>\n",
       "    </tr>\n",
       "    <tr>\n",
       "      <th>5 ROOM</th>\n",
       "      <td>118.179967</td>\n",
       "      <td>1997.184915</td>\n",
       "      <td>528232.292763</td>\n",
       "    </tr>\n",
       "    <tr>\n",
       "      <th>6 ROOM</th>\n",
       "      <td>144.404515</td>\n",
       "      <td>1993.559835</td>\n",
       "      <td>625316.397820</td>\n",
       "    </tr>\n",
       "    <tr>\n",
       "      <th>7 ROOM</th>\n",
       "      <td>164.818182</td>\n",
       "      <td>1987.060606</td>\n",
       "      <td>806804.606061</td>\n",
       "    </tr>\n",
       "  </tbody>\n",
       "</table>\n",
       "</div>"
      ],
      "text/plain": [
       "           floor_area_sqm  lease_commence_date   resale_price\n",
       "flat_type                                                    \n",
       "1 ROOM          31.000000          1975.000000  183789.625000\n",
       "2 ROOM          45.949087          1996.581172  233364.777137\n",
       "3 ROOM          68.265799          1984.365261  307356.564567\n",
       "4 ROOM          95.489984          1997.218214  432209.129394\n",
       "5 ROOM         118.179967          1997.184915  528232.292763\n",
       "6 ROOM         144.404515          1993.559835  625316.397820\n",
       "7 ROOM         164.818182          1987.060606  806804.606061"
      ]
     },
     "execution_count": 12,
     "metadata": {},
     "output_type": "execute_result"
    }
   ],
   "source": [
    "df.groupby(['flat_type']).mean()"
   ]
  },
  {
   "cell_type": "code",
   "execution_count": 13,
   "metadata": {},
   "outputs": [],
   "source": [
    "df['flat_type'] = df['flat_type'].str.replace(' ROOM','')\n",
    "df['flat_type'] = df['flat_type'].astype(int)"
   ]
  },
  {
   "cell_type": "code",
   "execution_count": 14,
   "metadata": {},
   "outputs": [
    {
     "data": {
      "text/plain": [
       "month                   object\n",
       "town                    object\n",
       "flat_type                int64\n",
       "block                   object\n",
       "street_name             object\n",
       "storey_range            object\n",
       "floor_area_sqm         float64\n",
       "flat_model              object\n",
       "lease_commence_date      int64\n",
       "remaining_lease         object\n",
       "resale_price           float64\n",
       "dtype: object"
      ]
     },
     "execution_count": 14,
     "metadata": {},
     "output_type": "execute_result"
    }
   ],
   "source": [
    "df.dtypes"
   ]
  },
  {
   "cell_type": "code",
   "execution_count": 15,
   "metadata": {},
   "outputs": [
    {
     "data": {
      "text/plain": [
       "<matplotlib.axes._subplots.AxesSubplot at 0x7fc1a5d10cd0>"
      ]
     },
     "execution_count": 15,
     "metadata": {},
     "output_type": "execute_result"
    },
    {
     "data": {
      "image/png": "[encoded data removed]",
      "text/plain": [
       "<Figure size 432x288 with 1 Axes>"
      ]
     },
     "metadata": {
      "needs_background": "light"
     },
     "output_type": "display_data"
    }
   ],
   "source": [
    "sns.boxplot(x='flat_type', y = 'resale_price', data = df)"
   ]
  },
  {
   "cell_type": "markdown",
   "metadata": {},
   "source": [
    "Now let's check the feature **'storey_range'**"
   ]
  },
  {
   "cell_type": "code",
   "execution_count": 16,
   "metadata": {},
   "outputs": [
    {
     "data": {
      "text/html": [
       "<div>\n",
       "<style scoped>\n",
       "    .dataframe tbody tr th:only-of-type {\n",
       "        vertical-align: middle;\n",
       "    }\n",
       "\n",
       "    .dataframe tbody tr th {\n",
       "        vertical-align: top;\n",
       "    }\n",
       "\n",
       "    .dataframe thead th {\n",
       "        text-align: right;\n",
       "    }\n",
       "</style>\n",
       "<table border=\"1\" class=\"dataframe\">\n",
       "  <thead>\n",
       "    <tr style=\"text-align: right;\">\n",
       "      <th></th>\n",
       "      <th>flat_type</th>\n",
       "      <th>floor_area_sqm</th>\n",
       "      <th>lease_commence_date</th>\n",
       "      <th>resale_price</th>\n",
       "    </tr>\n",
       "    <tr>\n",
       "      <th>storey_range</th>\n",
       "      <th></th>\n",
       "      <th></th>\n",
       "      <th></th>\n",
       "      <th></th>\n",
       "    </tr>\n",
       "  </thead>\n",
       "  <tbody>\n",
       "    <tr>\n",
       "      <th>01 TO 03</th>\n",
       "      <td>4.087262</td>\n",
       "      <td>97.540975</td>\n",
       "      <td>1990.955093</td>\n",
       "      <td>3.938169e+05</td>\n",
       "    </tr>\n",
       "    <tr>\n",
       "      <th>04 TO 06</th>\n",
       "      <td>4.099612</td>\n",
       "      <td>97.266675</td>\n",
       "      <td>1991.812781</td>\n",
       "      <td>4.118815e+05</td>\n",
       "    </tr>\n",
       "    <tr>\n",
       "      <th>07 TO 09</th>\n",
       "      <td>4.094992</td>\n",
       "      <td>97.028692</td>\n",
       "      <td>1992.267547</td>\n",
       "      <td>4.233009e+05</td>\n",
       "    </tr>\n",
       "    <tr>\n",
       "      <th>10 TO 12</th>\n",
       "      <td>4.141745</td>\n",
       "      <td>97.947149</td>\n",
       "      <td>1993.384074</td>\n",
       "      <td>4.378607e+05</td>\n",
       "    </tr>\n",
       "    <tr>\n",
       "      <th>13 TO 15</th>\n",
       "      <td>4.273636</td>\n",
       "      <td>99.258786</td>\n",
       "      <td>1999.808148</td>\n",
       "      <td>4.731559e+05</td>\n",
       "    </tr>\n",
       "    <tr>\n",
       "      <th>16 TO 18</th>\n",
       "      <td>4.277285</td>\n",
       "      <td>98.907913</td>\n",
       "      <td>2001.494202</td>\n",
       "      <td>5.139122e+05</td>\n",
       "    </tr>\n",
       "    <tr>\n",
       "      <th>19 TO 21</th>\n",
       "      <td>4.261574</td>\n",
       "      <td>99.271605</td>\n",
       "      <td>1999.882716</td>\n",
       "      <td>5.893615e+05</td>\n",
       "    </tr>\n",
       "    <tr>\n",
       "      <th>22 TO 24</th>\n",
       "      <td>4.303983</td>\n",
       "      <td>100.040881</td>\n",
       "      <td>2001.302935</td>\n",
       "      <td>6.057925e+05</td>\n",
       "    </tr>\n",
       "    <tr>\n",
       "      <th>25 TO 27</th>\n",
       "      <td>4.264078</td>\n",
       "      <td>98.166990</td>\n",
       "      <td>2004.335922</td>\n",
       "      <td>6.616944e+05</td>\n",
       "    </tr>\n",
       "    <tr>\n",
       "      <th>28 TO 30</th>\n",
       "      <td>4.264881</td>\n",
       "      <td>97.119048</td>\n",
       "      <td>2008.229167</td>\n",
       "      <td>7.468656e+05</td>\n",
       "    </tr>\n",
       "    <tr>\n",
       "      <th>31 TO 33</th>\n",
       "      <td>4.147059</td>\n",
       "      <td>94.580882</td>\n",
       "      <td>2011.926471</td>\n",
       "      <td>8.021978e+05</td>\n",
       "    </tr>\n",
       "    <tr>\n",
       "      <th>34 TO 36</th>\n",
       "      <td>4.138889</td>\n",
       "      <td>93.861111</td>\n",
       "      <td>2011.694444</td>\n",
       "      <td>7.959736e+05</td>\n",
       "    </tr>\n",
       "    <tr>\n",
       "      <th>37 TO 39</th>\n",
       "      <td>4.198529</td>\n",
       "      <td>95.558824</td>\n",
       "      <td>2011.485294</td>\n",
       "      <td>8.450864e+05</td>\n",
       "    </tr>\n",
       "    <tr>\n",
       "      <th>40 TO 42</th>\n",
       "      <td>4.298507</td>\n",
       "      <td>97.537313</td>\n",
       "      <td>2011.895522</td>\n",
       "      <td>8.895066e+05</td>\n",
       "    </tr>\n",
       "    <tr>\n",
       "      <th>43 TO 45</th>\n",
       "      <td>4.333333</td>\n",
       "      <td>98.666667</td>\n",
       "      <td>2011.000000</td>\n",
       "      <td>1.037833e+06</td>\n",
       "    </tr>\n",
       "    <tr>\n",
       "      <th>46 TO 48</th>\n",
       "      <td>4.250000</td>\n",
       "      <td>97.500000</td>\n",
       "      <td>2011.000000</td>\n",
       "      <td>1.019775e+06</td>\n",
       "    </tr>\n",
       "    <tr>\n",
       "      <th>49 TO 51</th>\n",
       "      <td>4.166667</td>\n",
       "      <td>95.833333</td>\n",
       "      <td>2011.000000</td>\n",
       "      <td>1.022815e+06</td>\n",
       "    </tr>\n",
       "  </tbody>\n",
       "</table>\n",
       "</div>"
      ],
      "text/plain": [
       "              flat_type  floor_area_sqm  lease_commence_date  resale_price\n",
       "storey_range                                                              \n",
       "01 TO 03       4.087262       97.540975          1990.955093  3.938169e+05\n",
       "04 TO 06       4.099612       97.266675          1991.812781  4.118815e+05\n",
       "07 TO 09       4.094992       97.028692          1992.267547  4.233009e+05\n",
       "10 TO 12       4.141745       97.947149          1993.384074  4.378607e+05\n",
       "13 TO 15       4.273636       99.258786          1999.808148  4.731559e+05\n",
       "16 TO 18       4.277285       98.907913          2001.494202  5.139122e+05\n",
       "19 TO 21       4.261574       99.271605          1999.882716  5.893615e+05\n",
       "22 TO 24       4.303983      100.040881          2001.302935  6.057925e+05\n",
       "25 TO 27       4.264078       98.166990          2004.335922  6.616944e+05\n",
       "28 TO 30       4.264881       97.119048          2008.229167  7.468656e+05\n",
       "31 TO 33       4.147059       94.580882          2011.926471  8.021978e+05\n",
       "34 TO 36       4.138889       93.861111          2011.694444  7.959736e+05\n",
       "37 TO 39       4.198529       95.558824          2011.485294  8.450864e+05\n",
       "40 TO 42       4.298507       97.537313          2011.895522  8.895066e+05\n",
       "43 TO 45       4.333333       98.666667          2011.000000  1.037833e+06\n",
       "46 TO 48       4.250000       97.500000          2011.000000  1.019775e+06\n",
       "49 TO 51       4.166667       95.833333          2011.000000  1.022815e+06"
      ]
     },
     "execution_count": 16,
     "metadata": {},
     "output_type": "execute_result"
    }
   ],
   "source": [
    "df.groupby('storey_range').mean()"
   ]
  },
  {
   "cell_type": "markdown",
   "metadata": {},
   "source": [
    "One thing to notice is that the mean resale price is going up with increase in the storey. So this is an ordinal varaiable and hence we will to transform it so that the effect can be captured."
   ]
  },
  {
   "cell_type": "markdown",
   "metadata": {},
   "source": [
    "The lease commence date and the remaining lease are redundant features as the lease is for a 100 years. We will the remaining lease feature for our analysis as by doing that, we can combine the information from the 'month of sale' and 'lease commence date' into a single feature.\n",
    "\n",
    "We will convert the years+months format into a the number of months."
   ]
  },
  {
   "cell_type": "code",
   "execution_count": 17,
   "metadata": {},
   "outputs": [
    {
     "data": {
      "text/html": [
       "<div>\n",
       "<style scoped>\n",
       "    .dataframe tbody tr th:only-of-type {\n",
       "        vertical-align: middle;\n",
       "    }\n",
       "\n",
       "    .dataframe tbody tr th {\n",
       "        vertical-align: top;\n",
       "    }\n",
       "\n",
       "    .dataframe thead th {\n",
       "        text-align: right;\n",
       "    }\n",
       "</style>\n",
       "<table border=\"1\" class=\"dataframe\">\n",
       "  <thead>\n",
       "    <tr style=\"text-align: right;\">\n",
       "      <th></th>\n",
       "      <th>month</th>\n",
       "      <th>town</th>\n",
       "      <th>flat_type</th>\n",
       "      <th>block</th>\n",
       "      <th>street_name</th>\n",
       "      <th>storey_range</th>\n",
       "      <th>floor_area_sqm</th>\n",
       "      <th>flat_model</th>\n",
       "      <th>lease_commence_date</th>\n",
       "      <th>remaining_lease</th>\n",
       "      <th>resale_price</th>\n",
       "      <th>rem_months</th>\n",
       "    </tr>\n",
       "  </thead>\n",
       "  <tbody>\n",
       "    <tr>\n",
       "      <th>0</th>\n",
       "      <td>2017-01</td>\n",
       "      <td>ANG MO KIO</td>\n",
       "      <td>2</td>\n",
       "      <td>406</td>\n",
       "      <td>ANG MO KIO AVE 10</td>\n",
       "      <td>10 TO 12</td>\n",
       "      <td>44.0</td>\n",
       "      <td>Improved</td>\n",
       "      <td>1979</td>\n",
       "      <td>61 years 04 months</td>\n",
       "      <td>232000.0</td>\n",
       "      <td>736</td>\n",
       "    </tr>\n",
       "    <tr>\n",
       "      <th>1</th>\n",
       "      <td>2017-01</td>\n",
       "      <td>ANG MO KIO</td>\n",
       "      <td>3</td>\n",
       "      <td>108</td>\n",
       "      <td>ANG MO KIO AVE 4</td>\n",
       "      <td>01 TO 03</td>\n",
       "      <td>67.0</td>\n",
       "      <td>New Generation</td>\n",
       "      <td>1978</td>\n",
       "      <td>60 years 07 months</td>\n",
       "      <td>250000.0</td>\n",
       "      <td>727</td>\n",
       "    </tr>\n",
       "    <tr>\n",
       "      <th>2</th>\n",
       "      <td>2017-01</td>\n",
       "      <td>ANG MO KIO</td>\n",
       "      <td>3</td>\n",
       "      <td>602</td>\n",
       "      <td>ANG MO KIO AVE 5</td>\n",
       "      <td>01 TO 03</td>\n",
       "      <td>67.0</td>\n",
       "      <td>New Generation</td>\n",
       "      <td>1980</td>\n",
       "      <td>62 years 05 months</td>\n",
       "      <td>262000.0</td>\n",
       "      <td>749</td>\n",
       "    </tr>\n",
       "    <tr>\n",
       "      <th>3</th>\n",
       "      <td>2017-01</td>\n",
       "      <td>ANG MO KIO</td>\n",
       "      <td>3</td>\n",
       "      <td>465</td>\n",
       "      <td>ANG MO KIO AVE 10</td>\n",
       "      <td>04 TO 06</td>\n",
       "      <td>68.0</td>\n",
       "      <td>New Generation</td>\n",
       "      <td>1980</td>\n",
       "      <td>62 years 01 month</td>\n",
       "      <td>265000.0</td>\n",
       "      <td>745</td>\n",
       "    </tr>\n",
       "    <tr>\n",
       "      <th>4</th>\n",
       "      <td>2017-01</td>\n",
       "      <td>ANG MO KIO</td>\n",
       "      <td>3</td>\n",
       "      <td>601</td>\n",
       "      <td>ANG MO KIO AVE 5</td>\n",
       "      <td>01 TO 03</td>\n",
       "      <td>67.0</td>\n",
       "      <td>New Generation</td>\n",
       "      <td>1980</td>\n",
       "      <td>62 years 05 months</td>\n",
       "      <td>265000.0</td>\n",
       "      <td>749</td>\n",
       "    </tr>\n",
       "  </tbody>\n",
       "</table>\n",
       "</div>"
      ],
      "text/plain": [
       "     month        town  flat_type block        street_name storey_range  \\\n",
       "0  2017-01  ANG MO KIO          2   406  ANG MO KIO AVE 10     10 TO 12   \n",
       "1  2017-01  ANG MO KIO          3   108   ANG MO KIO AVE 4     01 TO 03   \n",
       "2  2017-01  ANG MO KIO          3   602   ANG MO KIO AVE 5     01 TO 03   \n",
       "3  2017-01  ANG MO KIO          3   465  ANG MO KIO AVE 10     04 TO 06   \n",
       "4  2017-01  ANG MO KIO          3   601   ANG MO KIO AVE 5     01 TO 03   \n",
       "\n",
       "   floor_area_sqm      flat_model  lease_commence_date     remaining_lease  \\\n",
       "0            44.0        Improved                 1979  61 years 04 months   \n",
       "1            67.0  New Generation                 1978  60 years 07 months   \n",
       "2            67.0  New Generation                 1980  62 years 05 months   \n",
       "3            68.0  New Generation                 1980   62 years 01 month   \n",
       "4            67.0  New Generation                 1980  62 years 05 months   \n",
       "\n",
       "   resale_price  rem_months  \n",
       "0      232000.0         736  \n",
       "1      250000.0         727  \n",
       "2      262000.0         749  \n",
       "3      265000.0         745  \n",
       "4      265000.0         749  "
      ]
     },
     "execution_count": 17,
     "metadata": {},
     "output_type": "execute_result"
    }
   ],
   "source": [
    "df['rem_months'] = 12 * df['remaining_lease'].str.slice(0,2).astype(int) + df['remaining_lease'].str.slice(9,11).replace('',0).replace('0 ',0).astype(int)\n",
    "df.head()"
   ]
  },
  {
   "cell_type": "markdown",
   "metadata": {},
   "source": [
    "We will drop the columns month, street name, lease commence date and remaining lease and block from our data frame"
   ]
  },
  {
   "cell_type": "code",
   "execution_count": 18,
   "metadata": {},
   "outputs": [
    {
     "data": {
      "text/html": [
       "<div>\n",
       "<style scoped>\n",
       "    .dataframe tbody tr th:only-of-type {\n",
       "        vertical-align: middle;\n",
       "    }\n",
       "\n",
       "    .dataframe tbody tr th {\n",
       "        vertical-align: top;\n",
       "    }\n",
       "\n",
       "    .dataframe thead th {\n",
       "        text-align: right;\n",
       "    }\n",
       "</style>\n",
       "<table border=\"1\" class=\"dataframe\">\n",
       "  <thead>\n",
       "    <tr style=\"text-align: right;\">\n",
       "      <th></th>\n",
       "      <th>town</th>\n",
       "      <th>flat_type</th>\n",
       "      <th>storey_range</th>\n",
       "      <th>floor_area_sqm</th>\n",
       "      <th>flat_model</th>\n",
       "      <th>resale_price</th>\n",
       "      <th>rem_months</th>\n",
       "    </tr>\n",
       "  </thead>\n",
       "  <tbody>\n",
       "    <tr>\n",
       "      <th>0</th>\n",
       "      <td>ANG MO KIO</td>\n",
       "      <td>2</td>\n",
       "      <td>10 TO 12</td>\n",
       "      <td>44.0</td>\n",
       "      <td>Improved</td>\n",
       "      <td>232000.0</td>\n",
       "      <td>736</td>\n",
       "    </tr>\n",
       "    <tr>\n",
       "      <th>1</th>\n",
       "      <td>ANG MO KIO</td>\n",
       "      <td>3</td>\n",
       "      <td>01 TO 03</td>\n",
       "      <td>67.0</td>\n",
       "      <td>New Generation</td>\n",
       "      <td>250000.0</td>\n",
       "      <td>727</td>\n",
       "    </tr>\n",
       "    <tr>\n",
       "      <th>2</th>\n",
       "      <td>ANG MO KIO</td>\n",
       "      <td>3</td>\n",
       "      <td>01 TO 03</td>\n",
       "      <td>67.0</td>\n",
       "      <td>New Generation</td>\n",
       "      <td>262000.0</td>\n",
       "      <td>749</td>\n",
       "    </tr>\n",
       "    <tr>\n",
       "      <th>3</th>\n",
       "      <td>ANG MO KIO</td>\n",
       "      <td>3</td>\n",
       "      <td>04 TO 06</td>\n",
       "      <td>68.0</td>\n",
       "      <td>New Generation</td>\n",
       "      <td>265000.0</td>\n",
       "      <td>745</td>\n",
       "    </tr>\n",
       "    <tr>\n",
       "      <th>4</th>\n",
       "      <td>ANG MO KIO</td>\n",
       "      <td>3</td>\n",
       "      <td>01 TO 03</td>\n",
       "      <td>67.0</td>\n",
       "      <td>New Generation</td>\n",
       "      <td>265000.0</td>\n",
       "      <td>749</td>\n",
       "    </tr>\n",
       "  </tbody>\n",
       "</table>\n",
       "</div>"
      ],
      "text/plain": [
       "         town  flat_type storey_range  floor_area_sqm      flat_model  \\\n",
       "0  ANG MO KIO          2     10 TO 12            44.0        Improved   \n",
       "1  ANG MO KIO          3     01 TO 03            67.0  New Generation   \n",
       "2  ANG MO KIO          3     01 TO 03            67.0  New Generation   \n",
       "3  ANG MO KIO          3     04 TO 06            68.0  New Generation   \n",
       "4  ANG MO KIO          3     01 TO 03            67.0  New Generation   \n",
       "\n",
       "   resale_price  rem_months  \n",
       "0      232000.0         736  \n",
       "1      250000.0         727  \n",
       "2      262000.0         749  \n",
       "3      265000.0         745  \n",
       "4      265000.0         749  "
      ]
     },
     "execution_count": 18,
     "metadata": {},
     "output_type": "execute_result"
    }
   ],
   "source": [
    "df_cleaned = df.drop(columns = {'month','street_name','lease_commence_date','remaining_lease', 'block'})\n",
    "df_cleaned.head()"
   ]
  },
  {
   "cell_type": "code",
   "execution_count": 19,
   "metadata": {},
   "outputs": [
    {
     "data": {
      "text/html": [
       "<div>\n",
       "<style scoped>\n",
       "    .dataframe tbody tr th:only-of-type {\n",
       "        vertical-align: middle;\n",
       "    }\n",
       "\n",
       "    .dataframe tbody tr th {\n",
       "        vertical-align: top;\n",
       "    }\n",
       "\n",
       "    .dataframe thead th {\n",
       "        text-align: right;\n",
       "    }\n",
       "</style>\n",
       "<table border=\"1\" class=\"dataframe\">\n",
       "  <thead>\n",
       "    <tr style=\"text-align: right;\">\n",
       "      <th></th>\n",
       "      <th>town</th>\n",
       "      <th>flat_type</th>\n",
       "      <th>storey_range</th>\n",
       "      <th>floor_area_sqm</th>\n",
       "      <th>flat_model</th>\n",
       "      <th>rem_months</th>\n",
       "      <th>resale_price</th>\n",
       "    </tr>\n",
       "  </thead>\n",
       "  <tbody>\n",
       "    <tr>\n",
       "      <th>0</th>\n",
       "      <td>ANG MO KIO</td>\n",
       "      <td>2</td>\n",
       "      <td>10 TO 12</td>\n",
       "      <td>44.0</td>\n",
       "      <td>Improved</td>\n",
       "      <td>736</td>\n",
       "      <td>232000.0</td>\n",
       "    </tr>\n",
       "    <tr>\n",
       "      <th>1</th>\n",
       "      <td>ANG MO KIO</td>\n",
       "      <td>3</td>\n",
       "      <td>01 TO 03</td>\n",
       "      <td>67.0</td>\n",
       "      <td>New Generation</td>\n",
       "      <td>727</td>\n",
       "      <td>250000.0</td>\n",
       "    </tr>\n",
       "    <tr>\n",
       "      <th>2</th>\n",
       "      <td>ANG MO KIO</td>\n",
       "      <td>3</td>\n",
       "      <td>01 TO 03</td>\n",
       "      <td>67.0</td>\n",
       "      <td>New Generation</td>\n",
       "      <td>749</td>\n",
       "      <td>262000.0</td>\n",
       "    </tr>\n",
       "    <tr>\n",
       "      <th>3</th>\n",
       "      <td>ANG MO KIO</td>\n",
       "      <td>3</td>\n",
       "      <td>04 TO 06</td>\n",
       "      <td>68.0</td>\n",
       "      <td>New Generation</td>\n",
       "      <td>745</td>\n",
       "      <td>265000.0</td>\n",
       "    </tr>\n",
       "    <tr>\n",
       "      <th>4</th>\n",
       "      <td>ANG MO KIO</td>\n",
       "      <td>3</td>\n",
       "      <td>01 TO 03</td>\n",
       "      <td>67.0</td>\n",
       "      <td>New Generation</td>\n",
       "      <td>749</td>\n",
       "      <td>265000.0</td>\n",
       "    </tr>\n",
       "  </tbody>\n",
       "</table>\n",
       "</div>"
      ],
      "text/plain": [
       "         town  flat_type storey_range  floor_area_sqm      flat_model  \\\n",
       "0  ANG MO KIO          2     10 TO 12            44.0        Improved   \n",
       "1  ANG MO KIO          3     01 TO 03            67.0  New Generation   \n",
       "2  ANG MO KIO          3     01 TO 03            67.0  New Generation   \n",
       "3  ANG MO KIO          3     04 TO 06            68.0  New Generation   \n",
       "4  ANG MO KIO          3     01 TO 03            67.0  New Generation   \n",
       "\n",
       "   rem_months  resale_price  \n",
       "0         736      232000.0  \n",
       "1         727      250000.0  \n",
       "2         749      262000.0  \n",
       "3         745      265000.0  \n",
       "4         749      265000.0  "
      ]
     },
     "execution_count": 19,
     "metadata": {},
     "output_type": "execute_result"
    }
   ],
   "source": [
    "df_cleaned = df_cleaned[['town', 'flat_type', 'storey_range', 'floor_area_sqm', 'flat_model',\n",
    "       'rem_months', 'resale_price']]\n",
    "df_cleaned.head()"
   ]
  },
  {
   "cell_type": "markdown",
   "metadata": {},
   "source": [
    "As discussed earlier, we will transfrom the storey range feature so that its effect can be captured. We will use pandas Categorical and factorise methods to do that."
   ]
  },
  {
   "cell_type": "code",
   "execution_count": 20,
   "metadata": {},
   "outputs": [
    {
     "data": {
      "text/plain": [
       "array(['10 TO 12', '01 TO 03', '04 TO 06', '07 TO 09', '13 TO 15',\n",
       "       '19 TO 21', '22 TO 24', '16 TO 18', '34 TO 36', '28 TO 30',\n",
       "       '37 TO 39', '49 TO 51', '25 TO 27', '40 TO 42', '31 TO 33',\n",
       "       '46 TO 48', '43 TO 45'], dtype=object)"
      ]
     },
     "execution_count": 20,
     "metadata": {},
     "output_type": "execute_result"
    }
   ],
   "source": [
    "df_cleaned['storey_range'].unique()"
   ]
  },
  {
   "cell_type": "code",
   "execution_count": 21,
   "metadata": {},
   "outputs": [
    {
     "data": {
      "text/plain": [
       "[10 TO 12, 01 TO 03, 01 TO 03, 04 TO 06, 01 TO 03, ..., 01 TO 03, 10 TO 12, 01 TO 03, 04 TO 06, 01 TO 03]\n",
       "Length: 70104\n",
       "Categories (17, object): [01 TO 03 < 04 TO 06 < 07 TO 09 < 10 TO 12 ... 40 TO 42 < 43 TO 45 < 46 TO 48 < 49 TO 51]"
      ]
     },
     "execution_count": 21,
     "metadata": {},
     "output_type": "execute_result"
    }
   ],
   "source": [
    "categories = pd.Categorical(df_cleaned['storey_range'], categories=['01 TO 03', '04 TO 06', '07 TO 09', '10 TO 12', '13 TO 15', '16 TO 18',\n",
    "       '19 TO 21', '22 TO 24', '25 TO 27' ,'28 TO 30',  '31 TO 33', '34 TO 36', \n",
    "       '37 TO 39', '40 TO 42','43 TO 45', '46 TO 48',  '49 TO 51'], ordered=True)\n",
    "categories"
   ]
  },
  {
   "cell_type": "code",
   "execution_count": 22,
   "metadata": {},
   "outputs": [],
   "source": [
    "labels, unique = pd.factorize(categories, sort=True)"
   ]
  },
  {
   "cell_type": "code",
   "execution_count": 23,
   "metadata": {},
   "outputs": [
    {
     "data": {
      "text/html": [
       "<div>\n",
       "<style scoped>\n",
       "    .dataframe tbody tr th:only-of-type {\n",
       "        vertical-align: middle;\n",
       "    }\n",
       "\n",
       "    .dataframe tbody tr th {\n",
       "        vertical-align: top;\n",
       "    }\n",
       "\n",
       "    .dataframe thead th {\n",
       "        text-align: right;\n",
       "    }\n",
       "</style>\n",
       "<table border=\"1\" class=\"dataframe\">\n",
       "  <thead>\n",
       "    <tr style=\"text-align: right;\">\n",
       "      <th></th>\n",
       "      <th>town</th>\n",
       "      <th>flat_type</th>\n",
       "      <th>storey_range</th>\n",
       "      <th>floor_area_sqm</th>\n",
       "      <th>flat_model</th>\n",
       "      <th>rem_months</th>\n",
       "      <th>resale_price</th>\n",
       "    </tr>\n",
       "  </thead>\n",
       "  <tbody>\n",
       "    <tr>\n",
       "      <th>0</th>\n",
       "      <td>ANG MO KIO</td>\n",
       "      <td>2</td>\n",
       "      <td>3</td>\n",
       "      <td>44.0</td>\n",
       "      <td>Improved</td>\n",
       "      <td>736</td>\n",
       "      <td>232000.0</td>\n",
       "    </tr>\n",
       "    <tr>\n",
       "      <th>1</th>\n",
       "      <td>ANG MO KIO</td>\n",
       "      <td>3</td>\n",
       "      <td>0</td>\n",
       "      <td>67.0</td>\n",
       "      <td>New Generation</td>\n",
       "      <td>727</td>\n",
       "      <td>250000.0</td>\n",
       "    </tr>\n",
       "    <tr>\n",
       "      <th>2</th>\n",
       "      <td>ANG MO KIO</td>\n",
       "      <td>3</td>\n",
       "      <td>0</td>\n",
       "      <td>67.0</td>\n",
       "      <td>New Generation</td>\n",
       "      <td>749</td>\n",
       "      <td>262000.0</td>\n",
       "    </tr>\n",
       "    <tr>\n",
       "      <th>3</th>\n",
       "      <td>ANG MO KIO</td>\n",
       "      <td>3</td>\n",
       "      <td>1</td>\n",
       "      <td>68.0</td>\n",
       "      <td>New Generation</td>\n",
       "      <td>745</td>\n",
       "      <td>265000.0</td>\n",
       "    </tr>\n",
       "    <tr>\n",
       "      <th>4</th>\n",
       "      <td>ANG MO KIO</td>\n",
       "      <td>3</td>\n",
       "      <td>0</td>\n",
       "      <td>67.0</td>\n",
       "      <td>New Generation</td>\n",
       "      <td>749</td>\n",
       "      <td>265000.0</td>\n",
       "    </tr>\n",
       "  </tbody>\n",
       "</table>\n",
       "</div>"
      ],
      "text/plain": [
       "         town  flat_type  storey_range  floor_area_sqm      flat_model  \\\n",
       "0  ANG MO KIO          2             3            44.0        Improved   \n",
       "1  ANG MO KIO          3             0            67.0  New Generation   \n",
       "2  ANG MO KIO          3             0            67.0  New Generation   \n",
       "3  ANG MO KIO          3             1            68.0  New Generation   \n",
       "4  ANG MO KIO          3             0            67.0  New Generation   \n",
       "\n",
       "   rem_months  resale_price  \n",
       "0         736      232000.0  \n",
       "1         727      250000.0  \n",
       "2         749      262000.0  \n",
       "3         745      265000.0  \n",
       "4         749      265000.0  "
      ]
     },
     "execution_count": 23,
     "metadata": {},
     "output_type": "execute_result"
    }
   ],
   "source": [
    "df_cleaned['storey_range'] = labels\n",
    "df_cleaned.head()"
   ]
  },
  {
   "cell_type": "markdown",
   "metadata": {},
   "source": [
    "Before we use one-hot encoding to transform the remaining categorical features, let's check the correlation matrix"
   ]
  },
  {
   "cell_type": "code",
   "execution_count": 24,
   "metadata": {},
   "outputs": [
    {
     "data": {
      "text/plain": [
       "flat_type         0.638404\n",
       "storey_range      0.369815\n",
       "floor_area_sqm    0.632451\n",
       "rem_months        0.325968\n",
       "resale_price      1.000000\n",
       "Name: resale_price, dtype: float64"
      ]
     },
     "execution_count": 24,
     "metadata": {},
     "output_type": "execute_result"
    }
   ],
   "source": [
    "df_cleaned.corr()['resale_price']"
   ]
  },
  {
   "cell_type": "markdown",
   "metadata": {},
   "source": [
    "Let's also use a new hand engineered feature room_size = floor area / number of rooms(i.e flat_type) and see whether it can provide us further info."
   ]
  },
  {
   "cell_type": "code",
   "execution_count": 25,
   "metadata": {},
   "outputs": [
    {
     "data": {
      "text/html": [
       "<div>\n",
       "<style scoped>\n",
       "    .dataframe tbody tr th:only-of-type {\n",
       "        vertical-align: middle;\n",
       "    }\n",
       "\n",
       "    .dataframe tbody tr th {\n",
       "        vertical-align: top;\n",
       "    }\n",
       "\n",
       "    .dataframe thead th {\n",
       "        text-align: right;\n",
       "    }\n",
       "</style>\n",
       "<table border=\"1\" class=\"dataframe\">\n",
       "  <thead>\n",
       "    <tr style=\"text-align: right;\">\n",
       "      <th></th>\n",
       "      <th>town</th>\n",
       "      <th>flat_type</th>\n",
       "      <th>storey_range</th>\n",
       "      <th>floor_area_sqm</th>\n",
       "      <th>flat_model</th>\n",
       "      <th>rem_months</th>\n",
       "      <th>resale_price</th>\n",
       "      <th>room_size</th>\n",
       "    </tr>\n",
       "  </thead>\n",
       "  <tbody>\n",
       "    <tr>\n",
       "      <th>0</th>\n",
       "      <td>ANG MO KIO</td>\n",
       "      <td>2</td>\n",
       "      <td>3</td>\n",
       "      <td>44.0</td>\n",
       "      <td>Improved</td>\n",
       "      <td>736</td>\n",
       "      <td>232000.0</td>\n",
       "      <td>22.000000</td>\n",
       "    </tr>\n",
       "    <tr>\n",
       "      <th>1</th>\n",
       "      <td>ANG MO KIO</td>\n",
       "      <td>3</td>\n",
       "      <td>0</td>\n",
       "      <td>67.0</td>\n",
       "      <td>New Generation</td>\n",
       "      <td>727</td>\n",
       "      <td>250000.0</td>\n",
       "      <td>22.333333</td>\n",
       "    </tr>\n",
       "    <tr>\n",
       "      <th>2</th>\n",
       "      <td>ANG MO KIO</td>\n",
       "      <td>3</td>\n",
       "      <td>0</td>\n",
       "      <td>67.0</td>\n",
       "      <td>New Generation</td>\n",
       "      <td>749</td>\n",
       "      <td>262000.0</td>\n",
       "      <td>22.333333</td>\n",
       "    </tr>\n",
       "    <tr>\n",
       "      <th>3</th>\n",
       "      <td>ANG MO KIO</td>\n",
       "      <td>3</td>\n",
       "      <td>1</td>\n",
       "      <td>68.0</td>\n",
       "      <td>New Generation</td>\n",
       "      <td>745</td>\n",
       "      <td>265000.0</td>\n",
       "      <td>22.666667</td>\n",
       "    </tr>\n",
       "    <tr>\n",
       "      <th>4</th>\n",
       "      <td>ANG MO KIO</td>\n",
       "      <td>3</td>\n",
       "      <td>0</td>\n",
       "      <td>67.0</td>\n",
       "      <td>New Generation</td>\n",
       "      <td>749</td>\n",
       "      <td>265000.0</td>\n",
       "      <td>22.333333</td>\n",
       "    </tr>\n",
       "  </tbody>\n",
       "</table>\n",
       "</div>"
      ],
      "text/plain": [
       "         town  flat_type  storey_range  floor_area_sqm      flat_model  \\\n",
       "0  ANG MO KIO          2             3            44.0        Improved   \n",
       "1  ANG MO KIO          3             0            67.0  New Generation   \n",
       "2  ANG MO KIO          3             0            67.0  New Generation   \n",
       "3  ANG MO KIO          3             1            68.0  New Generation   \n",
       "4  ANG MO KIO          3             0            67.0  New Generation   \n",
       "\n",
       "   rem_months  resale_price  room_size  \n",
       "0         736      232000.0  22.000000  \n",
       "1         727      250000.0  22.333333  \n",
       "2         749      262000.0  22.333333  \n",
       "3         745      265000.0  22.666667  \n",
       "4         749      265000.0  22.333333  "
      ]
     },
     "execution_count": 25,
     "metadata": {},
     "output_type": "execute_result"
    }
   ],
   "source": [
    "df_cleaned['room_size'] = df_cleaned['floor_area_sqm'] / df_cleaned['flat_type']\n",
    "df_cleaned.head()"
   ]
  },
  {
   "cell_type": "code",
   "execution_count": 26,
   "metadata": {},
   "outputs": [
    {
     "data": {
      "text/html": [
       "<div>\n",
       "<style scoped>\n",
       "    .dataframe tbody tr th:only-of-type {\n",
       "        vertical-align: middle;\n",
       "    }\n",
       "\n",
       "    .dataframe tbody tr th {\n",
       "        vertical-align: top;\n",
       "    }\n",
       "\n",
       "    .dataframe thead th {\n",
       "        text-align: right;\n",
       "    }\n",
       "</style>\n",
       "<table border=\"1\" class=\"dataframe\">\n",
       "  <thead>\n",
       "    <tr style=\"text-align: right;\">\n",
       "      <th></th>\n",
       "      <th>town</th>\n",
       "      <th>flat_type</th>\n",
       "      <th>room_size</th>\n",
       "      <th>storey_range</th>\n",
       "      <th>floor_area_sqm</th>\n",
       "      <th>flat_model</th>\n",
       "      <th>rem_months</th>\n",
       "      <th>resale_price</th>\n",
       "    </tr>\n",
       "  </thead>\n",
       "  <tbody>\n",
       "    <tr>\n",
       "      <th>0</th>\n",
       "      <td>ANG MO KIO</td>\n",
       "      <td>2</td>\n",
       "      <td>22.000000</td>\n",
       "      <td>3</td>\n",
       "      <td>44.0</td>\n",
       "      <td>Improved</td>\n",
       "      <td>736</td>\n",
       "      <td>232000.0</td>\n",
       "    </tr>\n",
       "    <tr>\n",
       "      <th>1</th>\n",
       "      <td>ANG MO KIO</td>\n",
       "      <td>3</td>\n",
       "      <td>22.333333</td>\n",
       "      <td>0</td>\n",
       "      <td>67.0</td>\n",
       "      <td>New Generation</td>\n",
       "      <td>727</td>\n",
       "      <td>250000.0</td>\n",
       "    </tr>\n",
       "    <tr>\n",
       "      <th>2</th>\n",
       "      <td>ANG MO KIO</td>\n",
       "      <td>3</td>\n",
       "      <td>22.333333</td>\n",
       "      <td>0</td>\n",
       "      <td>67.0</td>\n",
       "      <td>New Generation</td>\n",
       "      <td>749</td>\n",
       "      <td>262000.0</td>\n",
       "    </tr>\n",
       "    <tr>\n",
       "      <th>3</th>\n",
       "      <td>ANG MO KIO</td>\n",
       "      <td>3</td>\n",
       "      <td>22.666667</td>\n",
       "      <td>1</td>\n",
       "      <td>68.0</td>\n",
       "      <td>New Generation</td>\n",
       "      <td>745</td>\n",
       "      <td>265000.0</td>\n",
       "    </tr>\n",
       "    <tr>\n",
       "      <th>4</th>\n",
       "      <td>ANG MO KIO</td>\n",
       "      <td>3</td>\n",
       "      <td>22.333333</td>\n",
       "      <td>0</td>\n",
       "      <td>67.0</td>\n",
       "      <td>New Generation</td>\n",
       "      <td>749</td>\n",
       "      <td>265000.0</td>\n",
       "    </tr>\n",
       "  </tbody>\n",
       "</table>\n",
       "</div>"
      ],
      "text/plain": [
       "         town  flat_type  room_size  storey_range  floor_area_sqm  \\\n",
       "0  ANG MO KIO          2  22.000000             3            44.0   \n",
       "1  ANG MO KIO          3  22.333333             0            67.0   \n",
       "2  ANG MO KIO          3  22.333333             0            67.0   \n",
       "3  ANG MO KIO          3  22.666667             1            68.0   \n",
       "4  ANG MO KIO          3  22.333333             0            67.0   \n",
       "\n",
       "       flat_model  rem_months  resale_price  \n",
       "0        Improved         736      232000.0  \n",
       "1  New Generation         727      250000.0  \n",
       "2  New Generation         749      262000.0  \n",
       "3  New Generation         745      265000.0  \n",
       "4  New Generation         749      265000.0  "
      ]
     },
     "execution_count": 26,
     "metadata": {},
     "output_type": "execute_result"
    }
   ],
   "source": [
    "df_cleaned = df_cleaned[['town', 'flat_type', 'room_size', 'storey_range', 'floor_area_sqm', 'flat_model',\n",
    "       'rem_months', 'resale_price']]\n",
    "df_cleaned.head()"
   ]
  },
  {
   "cell_type": "markdown",
   "metadata": {},
   "source": [
    "## Splitting Data into train and test sets"
   ]
  },
  {
   "cell_type": "markdown",
   "metadata": {},
   "source": [
    "Now we have a cleaned dataset that is ready for modelling. Let's convert the categorical features using one hot encoding and also split the data set into train and test sets."
   ]
  },
  {
   "cell_type": "code",
   "execution_count": 27,
   "metadata": {},
   "outputs": [
    {
     "data": {
      "text/html": [
       "<div>\n",
       "<style scoped>\n",
       "    .dataframe tbody tr th:only-of-type {\n",
       "        vertical-align: middle;\n",
       "    }\n",
       "\n",
       "    .dataframe tbody tr th {\n",
       "        vertical-align: top;\n",
       "    }\n",
       "\n",
       "    .dataframe thead th {\n",
       "        text-align: right;\n",
       "    }\n",
       "</style>\n",
       "<table border=\"1\" class=\"dataframe\">\n",
       "  <thead>\n",
       "    <tr style=\"text-align: right;\">\n",
       "      <th></th>\n",
       "      <th>flat_type</th>\n",
       "      <th>room_size</th>\n",
       "      <th>storey_range</th>\n",
       "      <th>floor_area_sqm</th>\n",
       "      <th>rem_months</th>\n",
       "      <th>town_ANG MO KIO</th>\n",
       "      <th>town_BEDOK</th>\n",
       "      <th>town_BISHAN</th>\n",
       "      <th>town_BUKIT BATOK</th>\n",
       "      <th>town_BUKIT MERAH</th>\n",
       "      <th>...</th>\n",
       "      <th>flat_model_Multi Generation</th>\n",
       "      <th>flat_model_New Generation</th>\n",
       "      <th>flat_model_Premium Apartment</th>\n",
       "      <th>flat_model_Premium Apartment Loft</th>\n",
       "      <th>flat_model_Premium Maisonette</th>\n",
       "      <th>flat_model_Simplified</th>\n",
       "      <th>flat_model_Standard</th>\n",
       "      <th>flat_model_Terrace</th>\n",
       "      <th>flat_model_Type S1</th>\n",
       "      <th>flat_model_Type S2</th>\n",
       "    </tr>\n",
       "  </thead>\n",
       "  <tbody>\n",
       "    <tr>\n",
       "      <th>0</th>\n",
       "      <td>2</td>\n",
       "      <td>22.000000</td>\n",
       "      <td>3</td>\n",
       "      <td>44.0</td>\n",
       "      <td>736</td>\n",
       "      <td>1</td>\n",
       "      <td>0</td>\n",
       "      <td>0</td>\n",
       "      <td>0</td>\n",
       "      <td>0</td>\n",
       "      <td>...</td>\n",
       "      <td>0</td>\n",
       "      <td>0</td>\n",
       "      <td>0</td>\n",
       "      <td>0</td>\n",
       "      <td>0</td>\n",
       "      <td>0</td>\n",
       "      <td>0</td>\n",
       "      <td>0</td>\n",
       "      <td>0</td>\n",
       "      <td>0</td>\n",
       "    </tr>\n",
       "    <tr>\n",
       "      <th>1</th>\n",
       "      <td>3</td>\n",
       "      <td>22.333333</td>\n",
       "      <td>0</td>\n",
       "      <td>67.0</td>\n",
       "      <td>727</td>\n",
       "      <td>1</td>\n",
       "      <td>0</td>\n",
       "      <td>0</td>\n",
       "      <td>0</td>\n",
       "      <td>0</td>\n",
       "      <td>...</td>\n",
       "      <td>0</td>\n",
       "      <td>1</td>\n",
       "      <td>0</td>\n",
       "      <td>0</td>\n",
       "      <td>0</td>\n",
       "      <td>0</td>\n",
       "      <td>0</td>\n",
       "      <td>0</td>\n",
       "      <td>0</td>\n",
       "      <td>0</td>\n",
       "    </tr>\n",
       "    <tr>\n",
       "      <th>2</th>\n",
       "      <td>3</td>\n",
       "      <td>22.333333</td>\n",
       "      <td>0</td>\n",
       "      <td>67.0</td>\n",
       "      <td>749</td>\n",
       "      <td>1</td>\n",
       "      <td>0</td>\n",
       "      <td>0</td>\n",
       "      <td>0</td>\n",
       "      <td>0</td>\n",
       "      <td>...</td>\n",
       "      <td>0</td>\n",
       "      <td>1</td>\n",
       "      <td>0</td>\n",
       "      <td>0</td>\n",
       "      <td>0</td>\n",
       "      <td>0</td>\n",
       "      <td>0</td>\n",
       "      <td>0</td>\n",
       "      <td>0</td>\n",
       "      <td>0</td>\n",
       "    </tr>\n",
       "    <tr>\n",
       "      <th>3</th>\n",
       "      <td>3</td>\n",
       "      <td>22.666667</td>\n",
       "      <td>1</td>\n",
       "      <td>68.0</td>\n",
       "      <td>745</td>\n",
       "      <td>1</td>\n",
       "      <td>0</td>\n",
       "      <td>0</td>\n",
       "      <td>0</td>\n",
       "      <td>0</td>\n",
       "      <td>...</td>\n",
       "      <td>0</td>\n",
       "      <td>1</td>\n",
       "      <td>0</td>\n",
       "      <td>0</td>\n",
       "      <td>0</td>\n",
       "      <td>0</td>\n",
       "      <td>0</td>\n",
       "      <td>0</td>\n",
       "      <td>0</td>\n",
       "      <td>0</td>\n",
       "    </tr>\n",
       "    <tr>\n",
       "      <th>4</th>\n",
       "      <td>3</td>\n",
       "      <td>22.333333</td>\n",
       "      <td>0</td>\n",
       "      <td>67.0</td>\n",
       "      <td>749</td>\n",
       "      <td>1</td>\n",
       "      <td>0</td>\n",
       "      <td>0</td>\n",
       "      <td>0</td>\n",
       "      <td>0</td>\n",
       "      <td>...</td>\n",
       "      <td>0</td>\n",
       "      <td>1</td>\n",
       "      <td>0</td>\n",
       "      <td>0</td>\n",
       "      <td>0</td>\n",
       "      <td>0</td>\n",
       "      <td>0</td>\n",
       "      <td>0</td>\n",
       "      <td>0</td>\n",
       "      <td>0</td>\n",
       "    </tr>\n",
       "  </tbody>\n",
       "</table>\n",
       "<p>5 rows × 51 columns</p>\n",
       "</div>"
      ],
      "text/plain": [
       "   flat_type  room_size  storey_range  floor_area_sqm  rem_months  \\\n",
       "0          2  22.000000             3            44.0         736   \n",
       "1          3  22.333333             0            67.0         727   \n",
       "2          3  22.333333             0            67.0         749   \n",
       "3          3  22.666667             1            68.0         745   \n",
       "4          3  22.333333             0            67.0         749   \n",
       "\n",
       "   town_ANG MO KIO  town_BEDOK  town_BISHAN  town_BUKIT BATOK  \\\n",
       "0                1           0            0                 0   \n",
       "1                1           0            0                 0   \n",
       "2                1           0            0                 0   \n",
       "3                1           0            0                 0   \n",
       "4                1           0            0                 0   \n",
       "\n",
       "   town_BUKIT MERAH  ...  flat_model_Multi Generation  \\\n",
       "0                 0  ...                            0   \n",
       "1                 0  ...                            0   \n",
       "2                 0  ...                            0   \n",
       "3                 0  ...                            0   \n",
       "4                 0  ...                            0   \n",
       "\n",
       "   flat_model_New Generation  flat_model_Premium Apartment  \\\n",
       "0                          0                             0   \n",
       "1                          1                             0   \n",
       "2                          1                             0   \n",
       "3                          1                             0   \n",
       "4                          1                             0   \n",
       "\n",
       "   flat_model_Premium Apartment Loft  flat_model_Premium Maisonette  \\\n",
       "0                                  0                              0   \n",
       "1                                  0                              0   \n",
       "2                                  0                              0   \n",
       "3                                  0                              0   \n",
       "4                                  0                              0   \n",
       "\n",
       "   flat_model_Simplified  flat_model_Standard  flat_model_Terrace  \\\n",
       "0                      0                    0                   0   \n",
       "1                      0                    0                   0   \n",
       "2                      0                    0                   0   \n",
       "3                      0                    0                   0   \n",
       "4                      0                    0                   0   \n",
       "\n",
       "   flat_model_Type S1  flat_model_Type S2  \n",
       "0                   0                   0  \n",
       "1                   0                   0  \n",
       "2                   0                   0  \n",
       "3                   0                   0  \n",
       "4                   0                   0  \n",
       "\n",
       "[5 rows x 51 columns]"
      ]
     },
     "execution_count": 27,
     "metadata": {},
     "output_type": "execute_result"
    }
   ],
   "source": [
    "y = df_cleaned['resale_price']\n",
    "X = df_cleaned.drop(columns='resale_price')\n",
    "X = pd.get_dummies(X)\n",
    "X.head()"
   ]
  },
  {
   "cell_type": "code",
   "execution_count": 28,
   "metadata": {},
   "outputs": [
    {
     "name": "stdout",
     "output_type": "stream",
     "text": [
      "(56083, 51) (14021, 51) (56083,) (14021,)\n"
     ]
    }
   ],
   "source": [
    "#train test split\n",
    "from sklearn.model_selection import train_test_split\n",
    "X_train, X_test, y_train, y_test = train_test_split(X, y, test_size=0.2, random_state=3)\n",
    "print(X_train.shape,X_test.shape,y_train.shape,y_test.shape)"
   ]
  },
  {
   "cell_type": "markdown",
   "metadata": {},
   "source": [
    "Now let's train a linear regression model and see how it performs"
   ]
  },
  {
   "cell_type": "code",
   "execution_count": 29,
   "metadata": {},
   "outputs": [],
   "source": [
    "from sklearn.linear_model import LinearRegression\n",
    "from sklearn.metrics import mean_squared_error, r2_score\n",
    "from sklearn.preprocessing import StandardScaler\n",
    "import math\n",
    "scaler = StandardScaler()\n",
    "X_train_norm = scaler.fit_transform(X_train)\n",
    "X_test_norm = scaler.transform(X_test)"
   ]
  },
  {
   "cell_type": "markdown",
   "metadata": {},
   "source": [
    "Before proceeding, let's see how our training set is distributed"
   ]
  },
  {
   "cell_type": "code",
   "execution_count": 30,
   "metadata": {},
   "outputs": [
    {
     "data": {
      "text/plain": [
       "<matplotlib.axes._subplots.AxesSubplot at 0x7fc1a378cbd0>"
      ]
     },
     "execution_count": 30,
     "metadata": {},
     "output_type": "execute_result"
    },
    {
     "data": {
      "image/png": "[encoded data removed]",
      "text/plain": [
       "<Figure size 432x288 with 1 Axes>"
      ]
     },
     "metadata": {
      "needs_background": "light"
     },
     "output_type": "display_data"
    }
   ],
   "source": [
    "sns.distplot(y_train)"
   ]
  },
  {
   "cell_type": "markdown",
   "metadata": {},
   "source": [
    "Seems that it is **skewed to the right**. Let's use a log transformation so that we get a more 'normal' distribution"
   ]
  },
  {
   "cell_type": "code",
   "execution_count": 31,
   "metadata": {},
   "outputs": [],
   "source": [
    "y_train = np.log(1+y_train)"
   ]
  },
  {
   "cell_type": "code",
   "execution_count": 32,
   "metadata": {},
   "outputs": [],
   "source": [
    "y_test_log = np.log(1+y_test)"
   ]
  },
  {
   "cell_type": "code",
   "execution_count": 33,
   "metadata": {},
   "outputs": [
    {
     "name": "stdout",
     "output_type": "stream",
     "text": [
      "0.12271203409555463\n",
      "0.8858897237072658\n"
     ]
    }
   ],
   "source": [
    "#Ordinary least squares regression without normalisation\n",
    "\n",
    "lr = LinearRegression()\n",
    "lr.fit(X_train,y_train)\n",
    "y_hat = lr.predict(X_test)\n",
    "print(math.sqrt(mean_squared_error(y_test, np.exp(y_hat)-1)) / y_test.mean())\n",
    "print(r2_score(np.log(1+y_test), y_hat))"
   ]
  },
  {
   "cell_type": "code",
   "execution_count": 34,
   "metadata": {},
   "outputs": [
    {
     "data": {
      "text/plain": [
       "<matplotlib.collections.PathCollection at 0x7fc1a17da310>"
      ]
     },
     "execution_count": 34,
     "metadata": {},
     "output_type": "execute_result"
    },
    {
     "data": {
      "image/png": "[encoded data removed]",
      "text/plain": [
       "<Figure size 432x288 with 1 Axes>"
      ]
     },
     "metadata": {
      "needs_background": "light"
     },
     "output_type": "display_data"
    }
   ],
   "source": [
    "plt.scatter(np.log(1 + y_test),y_hat)"
   ]
  },
  {
   "cell_type": "code",
   "execution_count": 35,
   "metadata": {},
   "outputs": [
    {
     "name": "stdout",
     "output_type": "stream",
     "text": [
      "0.12271727727188157\n",
      "0.8858860783957321\n"
     ]
    }
   ],
   "source": [
    "#with normalisation\n",
    "\n",
    "lr2 = LinearRegression()\n",
    "lr2.fit(X_train_norm,y_train)\n",
    "y_hat_norm = lr2.predict(X_test_norm)\n",
    "print(math.sqrt(mean_squared_error(y_test, np.exp(y_hat_norm)-1)) / y_test.mean())\n",
    "print(r2_score(np.log(1+y_test), y_hat_norm))"
   ]
  },
  {
   "cell_type": "markdown",
   "metadata": {},
   "source": [
    "The results are similar for ordinaly least squares regression, but for further analysis let's use the normalised datset."
   ]
  },
  {
   "cell_type": "markdown",
   "metadata": {},
   "source": [
    "## Building Models"
   ]
  },
  {
   "cell_type": "markdown",
   "metadata": {},
   "source": [
    "We will use the follwing models for our analysis\n",
    "\n",
    "1. Ridge Regression\n",
    "2. Lasso Regression\n",
    "3. Decision Tree Regressor\n",
    "4. Random Forest Regressor\n",
    "5. Gradient Boosting Regressor\n",
    "5. XGBoost Regressor\n",
    "\n",
    "We will use a multifold cross validation approach using grid search to tune the hyperparameters\n",
    "\n",
    "We will use the R2 value to estimate the best hyperparameter. We will also keep track of the coefficient of variation (RMS/mean) as a measure of the average error in our prediction and thus an estimate of the performance. Please note that R2 value will be our single evaluation metric on which the model selection will be made and the COV value will not be used for model selection."
   ]
  },
  {
   "cell_type": "markdown",
   "metadata": {},
   "source": [
    "## 1. Ridge Regression                       "
   ]
  },
  {
   "cell_type": "markdown",
   "metadata": {},
   "source": [
    "For Ridge, we will use the Ridge CV which has built in cross validation functionality"
   ]
  },
  {
   "cell_type": "code",
   "execution_count": 125,
   "metadata": {},
   "outputs": [],
   "source": [
    "#dictionary to store the R2 scores and COV\n",
    "scores = {}\n",
    "\n",
    "#function to compute scores\n",
    "def score(y_hat):\n",
    "    cov = np.sqrt(mean_squared_error(y_test, np.exp(y_hat)-1)) / y_test.mean()\n",
    "    r2 = r2_score(y_test_log, y_hat)\n",
    "    result = (r2, cov)\n",
    "    return result"
   ]
  },
  {
   "cell_type": "code",
   "execution_count": 127,
   "metadata": {},
   "outputs": [
    {
     "data": {
      "text/plain": [
       "(0.8858918147523764, 0.12270819358967232)"
      ]
     },
     "execution_count": 127,
     "metadata": {},
     "output_type": "execute_result"
    }
   ],
   "source": [
    "score(y_hat_R)"
   ]
  },
  {
   "cell_type": "code",
   "execution_count": 36,
   "metadata": {},
   "outputs": [],
   "source": [
    "from sklearn.linear_model import RidgeCV\n",
    "clf = RidgeCV(cv = 4, alphas=[0.001, 0.003, 0.01 , 0.03, 0.1, 0.3, 1]).fit(X_train, y_train)"
   ]
  },
  {
   "cell_type": "code",
   "execution_count": 37,
   "metadata": {},
   "outputs": [
    {
     "name": "stdout",
     "output_type": "stream",
     "text": [
      "The best hyperparameter is alpha  0.03 with and R2 score of 0.8831607570580318\n"
     ]
    }
   ],
   "source": [
    "print('The best hyperparameter is alpha ', str(clf.alpha_), 'with and R2 score of', str(clf.best_score_))"
   ]
  },
  {
   "cell_type": "code",
   "execution_count": 128,
   "metadata": {},
   "outputs": [
    {
     "name": "stdout",
     "output_type": "stream",
     "text": [
      "(0.8858918147523764, 0.12270819358967232)\n"
     ]
    }
   ],
   "source": [
    "y_hat_R = clf.predict(X_test)\n",
    "print(score(y_hat_R))\n",
    "scores['Ridge'] = score(y_hat_R)"
   ]
  },
  {
   "cell_type": "markdown",
   "metadata": {},
   "source": [
    "## 2. Lasso Regression"
   ]
  },
  {
   "cell_type": "code",
   "execution_count": 39,
   "metadata": {},
   "outputs": [
    {
     "data": {
      "text/plain": [
       "GridSearchCV(cv=4, estimator=Lasso(),\n",
       "             param_grid={'alpha': (0.001, 0.003, 0.01, 0.03, 0.1, 0.3, 1)})"
      ]
     },
     "execution_count": 39,
     "metadata": {},
     "output_type": "execute_result"
    }
   ],
   "source": [
    "from sklearn import linear_model\n",
    "from sklearn.model_selection import GridSearchCV\n",
    "lasso = linear_model.Lasso()\n",
    "p_lasso = {'alpha':(0.001, 0.003, 0.01, 0.03, 0.1, 0.3, 1 )}\n",
    "grid_lasso = GridSearchCV(lasso, p_lasso, cv=4)\n",
    "grid_lasso.fit(X_train_norm,y_train)"
   ]
  },
  {
   "cell_type": "code",
   "execution_count": 40,
   "metadata": {},
   "outputs": [
    {
     "name": "stdout",
     "output_type": "stream",
     "text": [
      "The best hyperparameter set is {'alpha': 0.001} with an R2 score of 0.8825303427616217\n"
     ]
    }
   ],
   "source": [
    "print('The best hyperparameter set is', str(grid_lasso.best_params_), 'with an R2 score of', str(grid_lasso.best_score_))"
   ]
  },
  {
   "cell_type": "code",
   "execution_count": 129,
   "metadata": {},
   "outputs": [
    {
     "name": "stdout",
     "output_type": "stream",
     "text": [
      "(0.885240999942356, 0.12245624939959383)\n"
     ]
    }
   ],
   "source": [
    "## making predictions and checking the performance on the test set\n",
    "y_hat_Lasso = grid_lasso.predict(X_test_norm)\n",
    "print(score(y_hat_Lasso))\n",
    "scores['Lasso'] = score(y_hat_Lasso)"
   ]
  },
  {
   "cell_type": "markdown",
   "metadata": {},
   "source": [
    "## 3. Decision Tree Regressor"
   ]
  },
  {
   "cell_type": "code",
   "execution_count": 42,
   "metadata": {},
   "outputs": [
    {
     "data": {
      "text/plain": [
       "GridSearchCV(cv=4, estimator=DecisionTreeRegressor(random_state=1),\n",
       "             param_grid={'max_depth': [1, 2, 3, 4, 5, 6, 7, 8, 9, 10, None]})"
      ]
     },
     "execution_count": 42,
     "metadata": {},
     "output_type": "execute_result"
    }
   ],
   "source": [
    "from sklearn.tree import DecisionTreeRegressor\n",
    "dtr = DecisionTreeRegressor(random_state=1)\n",
    "p_dtr = {'max_depth':[1,2,3,4,5,6,7,8,9,10, None]}\n",
    "grid_dtr = GridSearchCV(dtr, p_dtr, cv=4)\n",
    "grid_dtr.fit(X_train_norm,y_train)"
   ]
  },
  {
   "cell_type": "code",
   "execution_count": 43,
   "metadata": {},
   "outputs": [
    {
     "data": {
      "text/plain": [
       "{'max_depth': None}"
      ]
     },
     "execution_count": 43,
     "metadata": {},
     "output_type": "execute_result"
    }
   ],
   "source": [
    "grid_dtr.best_params_"
   ]
  },
  {
   "cell_type": "code",
   "execution_count": 44,
   "metadata": {},
   "outputs": [
    {
     "name": "stdout",
     "output_type": "stream",
     "text": [
      "The best hyperparameter is max depth set as None with an R2 score of 0.8990334818130707\n"
     ]
    }
   ],
   "source": [
    "print('The best hyperparameter is max depth set as None with an R2 score of', str(grid_dtr.best_score_))"
   ]
  },
  {
   "cell_type": "code",
   "execution_count": 130,
   "metadata": {},
   "outputs": [
    {
     "name": "stdout",
     "output_type": "stream",
     "text": [
      "(0.9070696036470141, 0.10579762537587199)\n"
     ]
    }
   ],
   "source": [
    "## making predictions and checking the performance on the test set\n",
    "y_hat_dtr = grid_dtr.predict(X_test_norm)\n",
    "print(score(y_hat_dtr))\n",
    "scores['Decision Tree'] = score(y_hat_dtr)"
   ]
  },
  {
   "cell_type": "markdown",
   "metadata": {},
   "source": [
    "## 4. Random Forest Regressor"
   ]
  },
  {
   "cell_type": "code",
   "execution_count": 46,
   "metadata": {
    "collapsed": true,
    "jupyter": {
     "outputs_hidden": true
    }
   },
   "outputs": [
    {
     "name": "stderr",
     "output_type": "stream",
     "text": [
      "[Parallel(n_jobs=16)]: Using backend LokyBackend with 16 concurrent workers.\n",
      "[Parallel(n_jobs=16)]: Done   3 out of   3 | elapsed:    1.1s finished\n",
      "[Parallel(n_jobs=3)]: Using backend ThreadingBackend with 3 concurrent workers.\n",
      "[Parallel(n_jobs=3)]: Done   3 out of   3 | elapsed:    0.0s finished\n",
      "[Parallel(n_jobs=16)]: Using backend LokyBackend with 16 concurrent workers.\n",
      "[Parallel(n_jobs=16)]: Done   3 out of   3 | elapsed:    0.5s finished\n",
      "[Parallel(n_jobs=3)]: Using backend ThreadingBackend with 3 concurrent workers.\n",
      "[Parallel(n_jobs=3)]: Done   3 out of   3 | elapsed:    0.0s finished\n",
      "[Parallel(n_jobs=16)]: Using backend LokyBackend with 16 concurrent workers.\n",
      "[Parallel(n_jobs=16)]: Done   3 out of   3 | elapsed:    0.5s finished\n",
      "[Parallel(n_jobs=3)]: Using backend ThreadingBackend with 3 concurrent workers.\n",
      "[Parallel(n_jobs=3)]: Done   3 out of   3 | elapsed:    0.0s finished\n",
      "[Parallel(n_jobs=16)]: Using backend LokyBackend with 16 concurrent workers.\n",
      "[Parallel(n_jobs=16)]: Done   3 out of   3 | elapsed:    0.5s finished\n",
      "[Parallel(n_jobs=3)]: Using backend ThreadingBackend with 3 concurrent workers.\n",
      "[Parallel(n_jobs=3)]: Done   3 out of   3 | elapsed:    0.0s finished\n",
      "[Parallel(n_jobs=16)]: Using backend LokyBackend with 16 concurrent workers.\n",
      "[Parallel(n_jobs=16)]: Done   3 out of  10 | elapsed:    0.6s remaining:    1.4s\n",
      "[Parallel(n_jobs=16)]: Done  10 out of  10 | elapsed:    0.9s finished\n",
      "[Parallel(n_jobs=10)]: Using backend ThreadingBackend with 10 concurrent workers.\n",
      "[Parallel(n_jobs=10)]: Done   3 out of  10 | elapsed:    0.0s remaining:    0.0s\n",
      "[Parallel(n_jobs=10)]: Done  10 out of  10 | elapsed:    0.0s finished\n",
      "[Parallel(n_jobs=16)]: Using backend LokyBackend with 16 concurrent workers.\n",
      "[Parallel(n_jobs=16)]: Done   3 out of  10 | elapsed:    0.6s remaining:    1.4s\n",
      "[Parallel(n_jobs=16)]: Done  10 out of  10 | elapsed:    0.7s finished\n",
      "[Parallel(n_jobs=10)]: Using backend ThreadingBackend with 10 concurrent workers.\n",
      "[Parallel(n_jobs=10)]: Done   3 out of  10 | elapsed:    0.0s remaining:    0.0s\n",
      "[Parallel(n_jobs=10)]: Done  10 out of  10 | elapsed:    0.0s finished\n",
      "[Parallel(n_jobs=16)]: Using backend LokyBackend with 16 concurrent workers.\n",
      "[Parallel(n_jobs=16)]: Done   3 out of  10 | elapsed:    0.5s remaining:    1.3s\n",
      "[Parallel(n_jobs=16)]: Done  10 out of  10 | elapsed:    0.7s finished\n",
      "[Parallel(n_jobs=10)]: Using backend ThreadingBackend with 10 concurrent workers.\n",
      "[Parallel(n_jobs=10)]: Done   3 out of  10 | elapsed:    0.0s remaining:    0.0s\n",
      "[Parallel(n_jobs=10)]: Done  10 out of  10 | elapsed:    0.0s finished\n",
      "[Parallel(n_jobs=16)]: Using backend LokyBackend with 16 concurrent workers.\n",
      "[Parallel(n_jobs=16)]: Done   3 out of  10 | elapsed:    0.6s remaining:    1.3s\n",
      "[Parallel(n_jobs=16)]: Done  10 out of  10 | elapsed:    0.7s finished\n",
      "[Parallel(n_jobs=10)]: Using backend ThreadingBackend with 10 concurrent workers.\n",
      "[Parallel(n_jobs=10)]: Done   3 out of  10 | elapsed:    0.0s remaining:    0.0s\n",
      "[Parallel(n_jobs=10)]: Done  10 out of  10 | elapsed:    0.0s finished\n",
      "[Parallel(n_jobs=16)]: Using backend LokyBackend with 16 concurrent workers.\n",
      "[Parallel(n_jobs=16)]: Done  15 out of  30 | elapsed:    1.3s remaining:    1.3s\n",
      "[Parallel(n_jobs=16)]: Done  30 out of  30 | elapsed:    1.9s finished\n",
      "[Parallel(n_jobs=16)]: Using backend ThreadingBackend with 16 concurrent workers.\n",
      "[Parallel(n_jobs=16)]: Done  15 out of  30 | elapsed:    0.0s remaining:    0.0s\n",
      "[Parallel(n_jobs=16)]: Done  30 out of  30 | elapsed:    0.0s finished\n",
      "[Parallel(n_jobs=16)]: Using backend LokyBackend with 16 concurrent workers.\n",
      "[Parallel(n_jobs=16)]: Done  15 out of  30 | elapsed:    1.5s remaining:    1.5s\n",
      "[Parallel(n_jobs=16)]: Done  30 out of  30 | elapsed:    1.9s finished\n",
      "[Parallel(n_jobs=16)]: Using backend ThreadingBackend with 16 concurrent workers.\n",
      "[Parallel(n_jobs=16)]: Done  15 out of  30 | elapsed:    0.0s remaining:    0.0s\n",
      "[Parallel(n_jobs=16)]: Done  30 out of  30 | elapsed:    0.0s finished\n",
      "[Parallel(n_jobs=16)]: Using backend LokyBackend with 16 concurrent workers.\n",
      "[Parallel(n_jobs=16)]: Done  15 out of  30 | elapsed:    1.2s remaining:    1.2s\n",
      "[Parallel(n_jobs=16)]: Done  30 out of  30 | elapsed:    1.9s finished\n",
      "[Parallel(n_jobs=16)]: Using backend ThreadingBackend with 16 concurrent workers.\n",
      "[Parallel(n_jobs=16)]: Done  15 out of  30 | elapsed:    0.0s remaining:    0.0s\n",
      "[Parallel(n_jobs=16)]: Done  30 out of  30 | elapsed:    0.0s finished\n",
      "[Parallel(n_jobs=16)]: Using backend LokyBackend with 16 concurrent workers.\n",
      "[Parallel(n_jobs=16)]: Done  15 out of  30 | elapsed:    1.2s remaining:    1.2s\n",
      "[Parallel(n_jobs=16)]: Done  30 out of  30 | elapsed:    1.9s finished\n",
      "[Parallel(n_jobs=16)]: Using backend ThreadingBackend with 16 concurrent workers.\n",
      "[Parallel(n_jobs=16)]: Done  15 out of  30 | elapsed:    0.0s remaining:    0.0s\n",
      "[Parallel(n_jobs=16)]: Done  30 out of  30 | elapsed:    0.0s finished\n",
      "[Parallel(n_jobs=16)]: Using backend LokyBackend with 16 concurrent workers.\n",
      "[Parallel(n_jobs=16)]: Done   9 tasks      | elapsed:    1.0s\n",
      "[Parallel(n_jobs=16)]: Done 100 out of 100 | elapsed:    6.1s finished\n",
      "[Parallel(n_jobs=16)]: Using backend ThreadingBackend with 16 concurrent workers.\n",
      "[Parallel(n_jobs=16)]: Done   9 tasks      | elapsed:    0.0s\n",
      "[Parallel(n_jobs=16)]: Done 100 out of 100 | elapsed:    0.1s finished\n",
      "[Parallel(n_jobs=16)]: Using backend LokyBackend with 16 concurrent workers.\n",
      "[Parallel(n_jobs=16)]: Done   9 tasks      | elapsed:    1.0s\n",
      "[Parallel(n_jobs=16)]: Done 100 out of 100 | elapsed:    5.9s finished\n",
      "[Parallel(n_jobs=16)]: Using backend ThreadingBackend with 16 concurrent workers.\n",
      "[Parallel(n_jobs=16)]: Done   9 tasks      | elapsed:    0.0s\n",
      "[Parallel(n_jobs=16)]: Done 100 out of 100 | elapsed:    0.1s finished\n",
      "[Parallel(n_jobs=16)]: Using backend LokyBackend with 16 concurrent workers.\n",
      "[Parallel(n_jobs=16)]: Done   9 tasks      | elapsed:    1.1s\n",
      "[Parallel(n_jobs=16)]: Done 100 out of 100 | elapsed:    6.0s finished\n",
      "[Parallel(n_jobs=16)]: Using backend ThreadingBackend with 16 concurrent workers.\n",
      "[Parallel(n_jobs=16)]: Done   9 tasks      | elapsed:    0.0s\n",
      "[Parallel(n_jobs=16)]: Done 100 out of 100 | elapsed:    0.1s finished\n",
      "[Parallel(n_jobs=16)]: Using backend LokyBackend with 16 concurrent workers.\n",
      "[Parallel(n_jobs=16)]: Done   9 tasks      | elapsed:    1.1s\n",
      "[Parallel(n_jobs=16)]: Done 100 out of 100 | elapsed:    6.0s finished\n",
      "[Parallel(n_jobs=16)]: Using backend ThreadingBackend with 16 concurrent workers.\n",
      "[Parallel(n_jobs=16)]: Done   9 tasks      | elapsed:    0.0s\n",
      "[Parallel(n_jobs=16)]: Done 100 out of 100 | elapsed:    0.1s finished\n",
      "[Parallel(n_jobs=16)]: Using backend ThreadingBackend with 16 concurrent workers.\n"
     ]
    },
    {
     "name": "stdout",
     "output_type": "stream",
     "text": [
      "building tree 1 of 100building tree 2 of 100\n",
      "\n",
      "building tree 3 of 100\n",
      "building tree 4 of 100\n",
      "building tree 5 of 100\n",
      "building tree 6 of 100\n",
      "building tree 7 of 100\n",
      "building tree 8 of 100\n",
      "building tree 9 of 100\n",
      "building tree 10 of 100\n",
      "building tree 11 of 100\n",
      "building tree 12 of 100\n",
      "building tree 13 of 100\n",
      "building tree 14 of 100\n",
      "building tree 15 of 100\n",
      "building tree 16 of 100\n",
      "building tree 17 of 100\n",
      "building tree 18 of 100\n",
      "building tree 19 of 100building tree 20 of 100\n",
      "\n",
      "building tree 21 of 100\n",
      "building tree 22 of 100\n",
      "building tree 23 of 100\n",
      "building tree 24 of 100building tree 25 of 100\n",
      "building tree 26 of 100\n",
      "\n",
      "building tree 27 of 100building tree 28 of 100\n",
      "building tree 29 of 100\n",
      "\n",
      "building tree 30 of 100\n",
      "building tree 31 of 100building tree 32 of 100\n",
      "\n"
     ]
    },
    {
     "name": "stderr",
     "output_type": "stream",
     "text": [
      "[Parallel(n_jobs=16)]: Done   9 tasks      | elapsed:    1.0s\n"
     ]
    },
    {
     "name": "stdout",
     "output_type": "stream",
     "text": [
      "building tree 33 of 100\n",
      "building tree 34 of 100\n",
      "building tree 35 of 100\n",
      "building tree 36 of 100\n",
      "building tree 37 of 100building tree 38 of 100\n",
      "\n",
      "building tree 39 of 100\n",
      "building tree 40 of 100\n",
      "building tree 41 of 100\n",
      "building tree 42 of 100\n",
      "building tree 43 of 100\n",
      "building tree 44 of 100\n",
      "building tree 45 of 100\n",
      "building tree 46 of 100\n",
      "building tree 47 of 100\n",
      "building tree 48 of 100\n",
      "building tree 49 of 100\n",
      "building tree 50 of 100\n",
      "building tree 51 of 100\n",
      "building tree 52 of 100\n",
      "building tree 53 of 100\n",
      "building tree 54 of 100\n",
      "building tree 55 of 100\n",
      "building tree 56 of 100building tree 57 of 100\n",
      "\n",
      "building tree 58 of 100\n",
      "building tree 59 of 100\n",
      "building tree 60 of 100\n",
      "building tree 61 of 100\n",
      "building tree 62 of 100\n",
      "building tree 63 of 100\n",
      "building tree 64 of 100\n",
      "building tree 65 of 100\n",
      "building tree 66 of 100\n",
      "building tree 67 of 100\n",
      "building tree 68 of 100\n",
      "building tree 69 of 100\n",
      "building tree 70 of 100\n",
      "building tree 71 of 100\n",
      "building tree 72 of 100\n",
      "building tree 73 of 100\n",
      "building tree 74 of 100\n",
      "building tree 75 of 100\n",
      "building tree 76 of 100building tree 77 of 100\n",
      "\n",
      "building tree 78 of 100\n",
      "building tree 79 of 100\n",
      "building tree 80 of 100\n",
      "building tree 81 of 100\n",
      "building tree 82 of 100\n",
      "building tree 83 of 100\n",
      "building tree 84 of 100\n",
      "building tree 85 of 100\n",
      "building tree 86 of 100\n",
      "building tree 87 of 100\n",
      "building tree 88 of 100\n",
      "building tree 89 of 100\n",
      "building tree 90 of 100\n",
      "building tree 91 of 100\n",
      "building tree 92 of 100\n",
      "building tree 93 of 100\n",
      "building tree 94 of 100\n",
      "building tree 95 of 100\n",
      "building tree 96 of 100\n",
      "building tree 97 of 100\n",
      "building tree 98 of 100\n",
      "building tree 99 of 100\n",
      "building tree 100 of 100\n"
     ]
    },
    {
     "name": "stderr",
     "output_type": "stream",
     "text": [
      "[Parallel(n_jobs=16)]: Done 100 out of 100 | elapsed:    6.6s finished\n"
     ]
    },
    {
     "data": {
      "text/plain": [
       "GridSearchCV(cv=4, estimator=RandomForestRegressor(n_jobs=16, verbose=2),\n",
       "             param_grid={'n_estimators': [3, 10, 30, 100]})"
      ]
     },
     "execution_count": 46,
     "metadata": {},
     "output_type": "execute_result"
    }
   ],
   "source": [
    "from sklearn.ensemble import RandomForestRegressor\n",
    "rfr = RandomForestRegressor(n_jobs = 16, verbose = 2)\n",
    "p_rfr = {'n_estimators':[3, 10, 30, 100]}\n",
    "grid_rfr = GridSearchCV(rfr, p_rfr, cv=4)\n",
    "grid_rfr.fit(X_train_norm,y_train)"
   ]
  },
  {
   "cell_type": "code",
   "execution_count": 47,
   "metadata": {},
   "outputs": [
    {
     "name": "stdout",
     "output_type": "stream",
     "text": [
      "The best hyperparameter set is {'n_estimators': 100} with and R2 score of 0.9352006597710331\n"
     ]
    }
   ],
   "source": [
    "print('The best hyperparameter set is', str(grid_rfr.best_params_), 'with and R2 score of', str(grid_rfr.best_score_))"
   ]
  },
  {
   "cell_type": "code",
   "execution_count": 131,
   "metadata": {},
   "outputs": [
    {
     "name": "stderr",
     "output_type": "stream",
     "text": [
      "[Parallel(n_jobs=16)]: Using backend ThreadingBackend with 16 concurrent workers.\n",
      "[Parallel(n_jobs=16)]: Done   9 tasks      | elapsed:    0.0s\n",
      "[Parallel(n_jobs=16)]: Done 100 out of 100 | elapsed:    0.2s finished\n"
     ]
    },
    {
     "name": "stdout",
     "output_type": "stream",
     "text": [
      "(0.9380977021769521, 0.08519451482205025)\n"
     ]
    }
   ],
   "source": [
    "## making predictions and checking the performance on the test set\n",
    "y_hat_rfr = grid_rfr.predict(X_test_norm)\n",
    "print(score(y_hat_rfr))\n",
    "scores['Random Forest'] = score(y_hat_rfr)"
   ]
  },
  {
   "cell_type": "markdown",
   "metadata": {},
   "source": [
    "## 5. Gradient Boosting Regressor"
   ]
  },
  {
   "cell_type": "code",
   "execution_count": 49,
   "metadata": {
    "collapsed": true,
    "jupyter": {
     "outputs_hidden": true
    }
   },
   "outputs": [
    {
     "name": "stderr",
     "output_type": "stream",
     "text": [
      "[Parallel(n_jobs=1)]: Using backend SequentialBackend with 1 concurrent workers.\n"
     ]
    },
    {
     "name": "stdout",
     "output_type": "stream",
     "text": [
      "Fitting 4 folds for each of 4 candidates, totalling 16 fits\n",
      "[CV] max_depth=3 .....................................................\n",
      "      Iter       Train Loss   Remaining Time \n",
      "         1           0.0961            8.60s\n",
      "         2           0.0866            7.55s\n",
      "         3           0.0788            7.56s\n",
      "         4           0.0723            7.22s\n",
      "         5           0.0668            6.95s\n",
      "         6           0.0623            6.76s\n",
      "         7           0.0583            6.70s\n",
      "         8           0.0550            6.57s\n",
      "         9           0.0520            6.47s\n",
      "        10           0.0496            6.38s\n",
      "        20           0.0348            5.64s\n",
      "        30           0.0279            4.97s\n",
      "        40           0.0238            4.33s\n",
      "        50           0.0207            3.64s\n",
      "        60           0.0186            2.93s\n",
      "        70           0.0169            2.20s\n",
      "        80           0.0157            1.48s\n",
      "        90           0.0147            0.74s\n",
      "       100           0.0138            0.00s\n",
      "[CV] ...................................... max_depth=3, total=   7.5s\n",
      "[CV] max_depth=3 .....................................................\n",
      "      Iter       Train Loss   Remaining Time \n",
      "         1           0.0963            6.42s\n",
      "         2           0.0867            6.37s\n"
     ]
    },
    {
     "name": "stderr",
     "output_type": "stream",
     "text": [
      "[Parallel(n_jobs=1)]: Done   1 out of   1 | elapsed:    7.5s remaining:    0.0s\n"
     ]
    },
    {
     "name": "stdout",
     "output_type": "stream",
     "text": [
      "         3           0.0789            6.55s\n",
      "         4           0.0724            6.59s\n",
      "         5           0.0668            6.45s\n",
      "         6           0.0623            6.34s\n",
      "         7           0.0583            6.36s\n",
      "         8           0.0550            6.25s\n",
      "         9           0.0520            6.20s\n",
      "        10           0.0496            6.19s\n",
      "        20           0.0347            5.45s\n",
      "        30           0.0280            4.91s\n",
      "        40           0.0236            4.27s\n",
      "        50           0.0207            3.61s\n",
      "        60           0.0187            2.92s\n",
      "        70           0.0171            2.20s\n",
      "        80           0.0158            1.48s\n",
      "        90           0.0148            0.74s\n",
      "       100           0.0137            0.00s\n",
      "[CV] ...................................... max_depth=3, total=   7.5s\n",
      "[CV] max_depth=3 .....................................................\n",
      "      Iter       Train Loss   Remaining Time \n",
      "         1           0.0960            6.43s\n",
      "         2           0.0866            6.37s\n",
      "         3           0.0789            6.52s\n",
      "         4           0.0724            6.42s\n",
      "         5           0.0669            6.33s\n",
      "         6           0.0623            6.22s\n",
      "         7           0.0584            6.25s\n",
      "         8           0.0550            6.19s\n",
      "         9           0.0521            6.11s\n",
      "        10           0.0497            6.06s\n",
      "        20           0.0347            5.39s\n",
      "        30           0.0280            4.83s\n",
      "        40           0.0239            4.25s\n",
      "        50           0.0208            3.59s\n",
      "        60           0.0187            2.89s\n",
      "        70           0.0170            2.18s\n",
      "        80           0.0157            1.46s\n",
      "        90           0.0147            0.73s\n",
      "       100           0.0138            0.00s\n",
      "[CV] ...................................... max_depth=3, total=   7.4s\n",
      "[CV] max_depth=3 .....................................................\n",
      "      Iter       Train Loss   Remaining Time \n",
      "         1           0.0960            6.53s\n",
      "         2           0.0865            6.49s\n",
      "         3           0.0788            6.55s\n",
      "         4           0.0723            6.50s\n",
      "         5           0.0667            6.38s\n",
      "         6           0.0622            6.29s\n",
      "         7           0.0582            6.30s\n",
      "         8           0.0549            6.22s\n",
      "         9           0.0522            6.15s\n",
      "        10           0.0493            6.05s\n",
      "        20           0.0347            5.44s\n",
      "        30           0.0277            4.86s\n",
      "        40           0.0235            4.24s\n",
      "        50           0.0207            3.59s\n",
      "        60           0.0186            2.90s\n",
      "        70           0.0169            2.20s\n",
      "        80           0.0155            1.48s\n",
      "        90           0.0145            0.74s\n",
      "       100           0.0137            0.00s\n",
      "[CV] ...................................... max_depth=3, total=   7.5s\n",
      "[CV] max_depth=5 .....................................................\n",
      "      Iter       Train Loss   Remaining Time \n",
      "         1           0.0937            9.03s\n",
      "         2           0.0824            8.84s\n",
      "         3           0.0728            8.97s\n",
      "         4           0.0651            8.79s\n",
      "         5           0.0586            8.81s\n",
      "         6           0.0533            8.67s\n",
      "         7           0.0488            8.51s\n",
      "         8           0.0449            8.50s\n",
      "         9           0.0417            8.38s\n",
      "        10           0.0390            8.27s\n",
      "        20           0.0243            7.38s\n",
      "        30           0.0185            6.81s\n",
      "        40           0.0154            6.13s\n",
      "        50           0.0134            5.27s\n",
      "        60           0.0118            4.27s\n",
      "        70           0.0107            3.25s\n",
      "        80           0.0099            2.19s\n",
      "        90           0.0093            1.10s\n",
      "       100           0.0089            0.00s\n",
      "[CV] ...................................... max_depth=5, total=  11.2s\n",
      "[CV] max_depth=5 .....................................................\n",
      "      Iter       Train Loss   Remaining Time \n",
      "         1           0.0939            9.04s\n",
      "         2           0.0825            8.85s\n",
      "         3           0.0729            8.92s\n",
      "         4           0.0651            8.78s\n",
      "         5           0.0586            8.78s\n",
      "         6           0.0533            8.62s\n",
      "         7           0.0488            8.45s\n",
      "         8           0.0450            8.43s\n",
      "         9           0.0417            8.32s\n",
      "        10           0.0390            8.18s\n",
      "        20           0.0243            7.32s\n",
      "        30           0.0184            6.69s\n",
      "        40           0.0151            5.98s\n",
      "        50           0.0130            5.16s\n",
      "        60           0.0115            4.22s\n",
      "        70           0.0104            3.23s\n",
      "        80           0.0097            2.18s\n",
      "        90           0.0092            1.10s\n",
      "       100           0.0088            0.00s\n",
      "[CV] ...................................... max_depth=5, total=  11.2s\n",
      "[CV] max_depth=5 .....................................................\n",
      "      Iter       Train Loss   Remaining Time \n",
      "         1           0.0936            8.77s\n",
      "         2           0.0823            8.65s\n",
      "         3           0.0727            8.81s\n",
      "         4           0.0651            8.70s\n",
      "         5           0.0586            8.69s\n",
      "         6           0.0533            8.59s\n",
      "         7           0.0489            8.44s\n",
      "         8           0.0452            8.43s\n",
      "         9           0.0420            8.33s\n",
      "        10           0.0393            8.21s\n",
      "        20           0.0244            7.34s\n",
      "        30           0.0185            6.64s\n",
      "        40           0.0153            6.00s\n",
      "        50           0.0131            5.15s\n",
      "        60           0.0116            4.22s\n",
      "        70           0.0105            3.21s\n",
      "        80           0.0098            2.17s\n",
      "        90           0.0092            1.09s\n",
      "       100           0.0088            0.00s\n",
      "[CV] ...................................... max_depth=5, total=  11.1s\n",
      "[CV] max_depth=5 .....................................................\n",
      "      Iter       Train Loss   Remaining Time \n",
      "         1           0.0936            8.74s\n",
      "         2           0.0823            8.96s\n",
      "         3           0.0727            9.24s\n",
      "         4           0.0650            8.98s\n",
      "         5           0.0584            8.95s\n",
      "         6           0.0531            8.77s\n",
      "         7           0.0486            8.61s\n",
      "         8           0.0448            8.60s\n",
      "         9           0.0415            8.47s\n",
      "        10           0.0388            8.34s\n",
      "        20           0.0242            7.45s\n",
      "        30           0.0184            6.75s\n",
      "        40           0.0152            6.06s\n",
      "        50           0.0131            5.21s\n",
      "        60           0.0117            4.26s\n",
      "        70           0.0106            3.25s\n",
      "        80           0.0098            2.18s\n",
      "        90           0.0093            1.10s\n",
      "       100           0.0088            0.00s\n",
      "[CV] ...................................... max_depth=5, total=  11.1s\n",
      "[CV] max_depth=8 .....................................................\n",
      "      Iter       Train Loss   Remaining Time \n",
      "         1           0.0918           12.27s\n",
      "         2           0.0788           12.32s\n",
      "         3           0.0681           11.92s\n",
      "         4           0.0592           11.75s\n",
      "         5           0.0519           11.60s\n",
      "         6           0.0459           11.48s\n",
      "         7           0.0409           11.35s\n",
      "         8           0.0366           11.20s\n",
      "         9           0.0331           11.09s\n",
      "        10           0.0301           10.98s\n",
      "        20           0.0157            9.78s\n",
      "        30           0.0110            8.83s\n",
      "        40           0.0089            7.87s\n",
      "        50           0.0078            6.85s\n",
      "        60           0.0070            5.68s\n",
      "        70           0.0066            4.37s\n",
      "        80           0.0061            2.96s\n",
      "        90           0.0059            1.51s\n",
      "       100           0.0056            0.00s\n",
      "[CV] ...................................... max_depth=8, total=  15.4s\n",
      "[CV] max_depth=8 .....................................................\n",
      "      Iter       Train Loss   Remaining Time \n",
      "         1           0.0919           11.79s\n",
      "         2           0.0789           12.42s\n",
      "         3           0.0682           11.99s\n",
      "         4           0.0593           11.78s\n",
      "         5           0.0520           11.69s\n",
      "         6           0.0459           11.59s\n",
      "         7           0.0409           11.43s\n",
      "         8           0.0366           11.26s\n",
      "         9           0.0330           11.16s\n",
      "        10           0.0300           11.03s\n",
      "        20           0.0156            9.87s\n",
      "        30           0.0108            8.73s\n",
      "        40           0.0089            7.81s\n",
      "        50           0.0077            6.80s\n",
      "        60           0.0070            5.69s\n",
      "        70           0.0065            4.38s\n",
      "        80           0.0062            2.99s\n",
      "        90           0.0059            1.52s\n",
      "       100           0.0056            0.00s\n",
      "[CV] ...................................... max_depth=8, total=  15.4s\n",
      "[CV] max_depth=8 .....................................................\n",
      "      Iter       Train Loss   Remaining Time \n",
      "         1           0.0916           11.88s\n",
      "         2           0.0787           12.23s\n",
      "         3           0.0681           11.91s\n",
      "         4           0.0592           11.65s\n",
      "         5           0.0519           11.64s\n",
      "         6           0.0459           11.52s\n",
      "         7           0.0408           11.38s\n",
      "         8           0.0366           11.26s\n",
      "         9           0.0331           11.23s\n",
      "        10           0.0301           11.10s\n",
      "        20           0.0156            9.96s\n",
      "        30           0.0109            8.79s\n",
      "        40           0.0089            7.80s\n",
      "        50           0.0077            6.82s\n",
      "        60           0.0070            5.62s\n",
      "        70           0.0065            4.32s\n",
      "        80           0.0062            2.95s\n",
      "        90           0.0059            1.51s\n",
      "       100           0.0057            0.00s\n",
      "[CV] ...................................... max_depth=8, total=  15.4s\n",
      "[CV] max_depth=8 .....................................................\n",
      "      Iter       Train Loss   Remaining Time \n",
      "         1           0.0916           11.70s\n",
      "         2           0.0786           12.62s\n",
      "         3           0.0679           12.01s\n",
      "         4           0.0590           11.70s\n",
      "         5           0.0518           11.65s\n",
      "         6           0.0458           11.51s\n",
      "         7           0.0407           11.40s\n",
      "         8           0.0366           11.30s\n",
      "         9           0.0329           11.19s\n",
      "        10           0.0299           11.07s\n",
      "        20           0.0156            9.86s\n",
      "        30           0.0110            8.77s\n",
      "        40           0.0090            7.92s\n",
      "        50           0.0079            6.88s\n",
      "        60           0.0071            5.69s\n",
      "        70           0.0066            4.39s\n",
      "        80           0.0062            2.97s\n",
      "        90           0.0059            1.51s\n",
      "       100           0.0056            0.00s\n",
      "[CV] ...................................... max_depth=8, total=  15.4s\n",
      "[CV] max_depth=10 ....................................................\n",
      "      Iter       Train Loss   Remaining Time \n",
      "         1           0.0910           13.70s\n",
      "         2           0.0774           13.91s\n",
      "         3           0.0663           13.54s\n",
      "         4           0.0570           13.47s\n",
      "         5           0.0493           13.24s\n",
      "         6           0.0429           13.10s\n",
      "         7           0.0377           12.93s\n",
      "         8           0.0332           12.84s\n",
      "         9           0.0295           12.66s\n",
      "        10           0.0264           12.71s\n",
      "        20           0.0123           11.19s\n",
      "        30           0.0082            9.95s\n",
      "        40           0.0066            8.63s\n",
      "        50           0.0057            7.52s\n",
      "        60           0.0052            6.31s\n",
      "        70           0.0048            4.92s\n",
      "        80           0.0045            3.36s\n",
      "        90           0.0043            1.73s\n",
      "       100           0.0041            0.00s\n",
      "[CV] ..................................... max_depth=10, total=  17.7s\n",
      "[CV] max_depth=10 ....................................................\n",
      "      Iter       Train Loss   Remaining Time \n",
      "         1           0.0912           13.60s\n",
      "         2           0.0775           13.71s\n",
      "         3           0.0664           13.60s\n",
      "         4           0.0571           13.39s\n",
      "         5           0.0493           13.30s\n",
      "         6           0.0429           13.08s\n",
      "         7           0.0376           13.15s\n",
      "         8           0.0332           12.97s\n",
      "         9           0.0295           12.86s\n",
      "        10           0.0264           12.69s\n",
      "        20           0.0121           11.12s\n",
      "        30           0.0080            9.95s\n",
      "        40           0.0064            8.59s\n",
      "        50           0.0056            7.57s\n",
      "        60           0.0051            6.32s\n",
      "        70           0.0047            4.90s\n",
      "        80           0.0045            3.37s\n",
      "        90           0.0043            1.72s\n",
      "       100           0.0041            0.00s\n",
      "[CV] ..................................... max_depth=10, total=  17.6s\n",
      "[CV] max_depth=10 ....................................................\n",
      "      Iter       Train Loss   Remaining Time \n",
      "         1           0.0908           13.60s\n",
      "         2           0.0773           13.85s\n",
      "         3           0.0662           13.84s\n",
      "         4           0.0569           13.45s\n",
      "         5           0.0492           13.39s\n",
      "         6           0.0429           13.20s\n",
      "         7           0.0376           13.15s\n",
      "         8           0.0333           12.98s\n",
      "         9           0.0296           12.87s\n",
      "        10           0.0265           12.76s\n",
      "        20           0.0122           11.22s\n",
      "        30           0.0081            9.90s\n",
      "        40           0.0065            8.59s\n",
      "        50           0.0057            7.55s\n",
      "        60           0.0052            6.25s\n",
      "        70           0.0048            4.84s\n",
      "        80           0.0045            3.32s\n",
      "        90           0.0043            1.69s\n",
      "       100           0.0041            0.00s\n",
      "[CV] ..................................... max_depth=10, total=  17.2s\n",
      "[CV] max_depth=10 ....................................................\n",
      "      Iter       Train Loss   Remaining Time \n",
      "         1           0.0908           14.21s\n",
      "         2           0.0772           14.01s\n",
      "         3           0.0661           13.85s\n",
      "         4           0.0568           13.52s\n",
      "         5           0.0491           13.40s\n",
      "         6           0.0427           13.20s\n",
      "         7           0.0375           13.13s\n",
      "         8           0.0330           12.95s\n",
      "         9           0.0294           12.86s\n",
      "        10           0.0263           12.67s\n",
      "        20           0.0121           11.14s\n",
      "        30           0.0082            9.94s\n",
      "        40           0.0065            8.67s\n",
      "        50           0.0057            7.56s\n",
      "        60           0.0052            6.33s\n",
      "        70           0.0048            4.88s\n",
      "        80           0.0045            3.34s\n",
      "        90           0.0043            1.71s\n",
      "       100           0.0042            0.00s\n",
      "[CV] ..................................... max_depth=10, total=  17.7s\n",
      "      Iter       Train Loss   Remaining Time \n"
     ]
    },
    {
     "name": "stderr",
     "output_type": "stream",
     "text": [
      "[Parallel(n_jobs=1)]: Done  16 out of  16 | elapsed:  3.4min finished\n"
     ]
    },
    {
     "name": "stdout",
     "output_type": "stream",
     "text": [
      "         1           0.0910           16.20s\n",
      "         2           0.0774           17.15s\n",
      "         3           0.0663           17.00s\n",
      "         4           0.0570           16.54s\n",
      "         5           0.0494           16.44s\n",
      "         6           0.0430           16.19s\n",
      "         7           0.0377           16.28s\n",
      "         8           0.0332           16.18s\n",
      "         9           0.0296           16.04s\n",
      "        10           0.0265           15.79s\n",
      "        20           0.0122           13.98s\n",
      "        30           0.0083           12.07s\n",
      "        40           0.0067           10.28s\n",
      "        50           0.0058            8.60s\n",
      "        60           0.0054            6.92s\n",
      "        70           0.0050            5.28s\n",
      "        80           0.0047            3.52s\n",
      "        90           0.0045            1.76s\n",
      "       100           0.0044            0.00s\n"
     ]
    },
    {
     "data": {
      "text/plain": [
       "GridSearchCV(cv=4, estimator=GradientBoostingRegressor(verbose=1),\n",
       "             param_grid={'max_depth': [3, 5, 8, 10]}, verbose=2)"
      ]
     },
     "execution_count": 49,
     "metadata": {},
     "output_type": "execute_result"
    }
   ],
   "source": [
    "from sklearn.ensemble import GradientBoostingRegressor\n",
    "#let's use estimators as 100 as GBM is robust to overfitting and a higher number usually leads to better performance\n",
    "gbm = GradientBoostingRegressor(n_estimators = 100, verbose = 1) \n",
    "#let's try to tune the max_depth hyperparameter\n",
    "p_gbm = {'max_depth':[3, 5, 8, 10]}                        #, 'loss':['ls', 'lad', 'huber'], 'learning_rate':[0.01, 0.03, 0.1, 0.3]\n",
    "grid_gbm = GridSearchCV(gbm, p_gbm, cv=4, verbose=2) \n",
    "grid_gbm.fit(X_train_norm,y_train)"
   ]
  },
  {
   "cell_type": "code",
   "execution_count": 50,
   "metadata": {},
   "outputs": [
    {
     "name": "stdout",
     "output_type": "stream",
     "text": [
      "The best hyperparameter set is {'max_depth': 10} with and R2 score of 0.9408539133442197\n"
     ]
    }
   ],
   "source": [
    "print('The best hyperparameter set is', str(grid_gbm.best_params_), 'with and R2 score of', str(grid_gbm.best_score_))"
   ]
  },
  {
   "cell_type": "code",
   "execution_count": 132,
   "metadata": {},
   "outputs": [
    {
     "name": "stdout",
     "output_type": "stream",
     "text": [
      "(0.9436635004700921, 0.08224753928494487)\n"
     ]
    }
   ],
   "source": [
    "## making predictions and checking the performance on the test set\n",
    "y_hat_gbm = grid_gbm.predict(X_test_norm)\n",
    "print(score(y_hat_gbm))\n",
    "scores['Gradient Boosting'] = score(y_hat_gbm)"
   ]
  },
  {
   "cell_type": "markdown",
   "metadata": {},
   "source": [
    "## 6. XGBoost Regressor"
   ]
  },
  {
   "cell_type": "code",
   "execution_count": 52,
   "metadata": {},
   "outputs": [],
   "source": [
    "import xgboost as xgb"
   ]
  },
  {
   "cell_type": "code",
   "execution_count": 110,
   "metadata": {
    "collapsed": true,
    "jupyter": {
     "outputs_hidden": true
    }
   },
   "outputs": [
    {
     "name": "stdout",
     "output_type": "stream",
     "text": [
      "Fitting 4 folds for each of 48 candidates, totalling 192 fits\n",
      "[CV] learning_rate=0.05, max_depth=3, n_estimators=100 ...............\n"
     ]
    },
    {
     "name": "stderr",
     "output_type": "stream",
     "text": [
      "[Parallel(n_jobs=1)]: Using backend SequentialBackend with 1 concurrent workers.\n"
     ]
    },
    {
     "name": "stdout",
     "output_type": "stream",
     "text": [
      "[CV]  learning_rate=0.05, max_depth=3, n_estimators=100, total=   1.2s\n",
      "[CV] learning_rate=0.05, max_depth=3, n_estimators=100 ...............\n"
     ]
    },
    {
     "name": "stderr",
     "output_type": "stream",
     "text": [
      "[Parallel(n_jobs=1)]: Done   1 out of   1 | elapsed:    1.2s remaining:    0.0s\n"
     ]
    },
    {
     "name": "stdout",
     "output_type": "stream",
     "text": [
      "[CV]  learning_rate=0.05, max_depth=3, n_estimators=100, total=   1.2s\n",
      "[CV] learning_rate=0.05, max_depth=3, n_estimators=100 ...............\n",
      "[CV]  learning_rate=0.05, max_depth=3, n_estimators=100, total=   1.2s\n",
      "[CV] learning_rate=0.05, max_depth=3, n_estimators=100 ...............\n",
      "[CV]  learning_rate=0.05, max_depth=3, n_estimators=100, total=   1.1s\n",
      "[CV] learning_rate=0.05, max_depth=3, n_estimators=500 ...............\n",
      "[CV]  learning_rate=0.05, max_depth=3, n_estimators=500, total=   6.8s\n",
      "[CV] learning_rate=0.05, max_depth=3, n_estimators=500 ...............\n",
      "[CV]  learning_rate=0.05, max_depth=3, n_estimators=500, total=   6.2s\n",
      "[CV] learning_rate=0.05, max_depth=3, n_estimators=500 ...............\n",
      "[CV]  learning_rate=0.05, max_depth=3, n_estimators=500, total=   6.6s\n",
      "[CV] learning_rate=0.05, max_depth=3, n_estimators=500 ...............\n",
      "[CV]  learning_rate=0.05, max_depth=3, n_estimators=500, total=   5.3s\n",
      "[CV] learning_rate=0.05, max_depth=3, n_estimators=1000 ..............\n",
      "[CV]  learning_rate=0.05, max_depth=3, n_estimators=1000, total=  11.4s\n",
      "[CV] learning_rate=0.05, max_depth=3, n_estimators=1000 ..............\n",
      "[CV]  learning_rate=0.05, max_depth=3, n_estimators=1000, total=  11.7s\n",
      "[CV] learning_rate=0.05, max_depth=3, n_estimators=1000 ..............\n",
      "[CV]  learning_rate=0.05, max_depth=3, n_estimators=1000, total=  12.4s\n",
      "[CV] learning_rate=0.05, max_depth=3, n_estimators=1000 ..............\n",
      "[CV]  learning_rate=0.05, max_depth=3, n_estimators=1000, total=  10.2s\n",
      "[CV] learning_rate=0.05, max_depth=5, n_estimators=100 ...............\n",
      "[CV]  learning_rate=0.05, max_depth=5, n_estimators=100, total=   1.7s\n",
      "[CV] learning_rate=0.05, max_depth=5, n_estimators=100 ...............\n",
      "[CV]  learning_rate=0.05, max_depth=5, n_estimators=100, total=   1.7s\n",
      "[CV] learning_rate=0.05, max_depth=5, n_estimators=100 ...............\n",
      "[CV]  learning_rate=0.05, max_depth=5, n_estimators=100, total=   1.7s\n",
      "[CV] learning_rate=0.05, max_depth=5, n_estimators=100 ...............\n",
      "[CV]  learning_rate=0.05, max_depth=5, n_estimators=100, total=   1.7s\n",
      "[CV] learning_rate=0.05, max_depth=5, n_estimators=500 ...............\n",
      "[CV]  learning_rate=0.05, max_depth=5, n_estimators=500, total=   8.3s\n",
      "[CV] learning_rate=0.05, max_depth=5, n_estimators=500 ...............\n",
      "[CV]  learning_rate=0.05, max_depth=5, n_estimators=500, total=   8.3s\n",
      "[CV] learning_rate=0.05, max_depth=5, n_estimators=500 ...............\n",
      "[CV]  learning_rate=0.05, max_depth=5, n_estimators=500, total=   8.3s\n",
      "[CV] learning_rate=0.05, max_depth=5, n_estimators=500 ...............\n",
      "[CV]  learning_rate=0.05, max_depth=5, n_estimators=500, total=   8.3s\n",
      "[CV] learning_rate=0.05, max_depth=5, n_estimators=1000 ..............\n",
      "[CV]  learning_rate=0.05, max_depth=5, n_estimators=1000, total=  22.1s\n",
      "[CV] learning_rate=0.05, max_depth=5, n_estimators=1000 ..............\n",
      "[CV]  learning_rate=0.05, max_depth=5, n_estimators=1000, total=  16.9s\n",
      "[CV] learning_rate=0.05, max_depth=5, n_estimators=1000 ..............\n",
      "[CV]  learning_rate=0.05, max_depth=5, n_estimators=1000, total=  16.7s\n",
      "[CV] learning_rate=0.05, max_depth=5, n_estimators=1000 ..............\n",
      "[CV]  learning_rate=0.05, max_depth=5, n_estimators=1000, total=  16.8s\n",
      "[CV] learning_rate=0.05, max_depth=8, n_estimators=100 ...............\n",
      "[CV]  learning_rate=0.05, max_depth=8, n_estimators=100, total=   2.6s\n",
      "[CV] learning_rate=0.05, max_depth=8, n_estimators=100 ...............\n",
      "[CV]  learning_rate=0.05, max_depth=8, n_estimators=100, total=   2.6s\n",
      "[CV] learning_rate=0.05, max_depth=8, n_estimators=100 ...............\n",
      "[CV]  learning_rate=0.05, max_depth=8, n_estimators=100, total=   2.6s\n",
      "[CV] learning_rate=0.05, max_depth=8, n_estimators=100 ...............\n",
      "[CV]  learning_rate=0.05, max_depth=8, n_estimators=100, total=   2.7s\n",
      "[CV] learning_rate=0.05, max_depth=8, n_estimators=500 ...............\n",
      "[CV]  learning_rate=0.05, max_depth=8, n_estimators=500, total=  15.2s\n",
      "[CV] learning_rate=0.05, max_depth=8, n_estimators=500 ...............\n",
      "[CV]  learning_rate=0.05, max_depth=8, n_estimators=500, total=  16.1s\n",
      "[CV] learning_rate=0.05, max_depth=8, n_estimators=500 ...............\n",
      "[CV]  learning_rate=0.05, max_depth=8, n_estimators=500, total=  16.5s\n",
      "[CV] learning_rate=0.05, max_depth=8, n_estimators=500 ...............\n",
      "[CV]  learning_rate=0.05, max_depth=8, n_estimators=500, total=  15.7s\n",
      "[CV] learning_rate=0.05, max_depth=8, n_estimators=1000 ..............\n",
      "[CV]  learning_rate=0.05, max_depth=8, n_estimators=1000, total=  31.4s\n",
      "[CV] learning_rate=0.05, max_depth=8, n_estimators=1000 ..............\n",
      "[CV]  learning_rate=0.05, max_depth=8, n_estimators=1000, total=  29.0s\n",
      "[CV] learning_rate=0.05, max_depth=8, n_estimators=1000 ..............\n",
      "[CV]  learning_rate=0.05, max_depth=8, n_estimators=1000, total=  29.7s\n",
      "[CV] learning_rate=0.05, max_depth=8, n_estimators=1000 ..............\n",
      "[CV]  learning_rate=0.05, max_depth=8, n_estimators=1000, total=  32.8s\n",
      "[CV] learning_rate=0.05, max_depth=10, n_estimators=100 ..............\n",
      "[CV]  learning_rate=0.05, max_depth=10, n_estimators=100, total=   4.3s\n",
      "[CV] learning_rate=0.05, max_depth=10, n_estimators=100 ..............\n",
      "[CV]  learning_rate=0.05, max_depth=10, n_estimators=100, total=   3.2s\n",
      "[CV] learning_rate=0.05, max_depth=10, n_estimators=100 ..............\n",
      "[CV]  learning_rate=0.05, max_depth=10, n_estimators=100, total=   3.5s\n",
      "[CV] learning_rate=0.05, max_depth=10, n_estimators=100 ..............\n",
      "[CV]  learning_rate=0.05, max_depth=10, n_estimators=100, total=   3.4s\n",
      "[CV] learning_rate=0.05, max_depth=10, n_estimators=500 ..............\n",
      "[CV]  learning_rate=0.05, max_depth=10, n_estimators=500, total=  18.5s\n",
      "[CV] learning_rate=0.05, max_depth=10, n_estimators=500 ..............\n",
      "[CV]  learning_rate=0.05, max_depth=10, n_estimators=500, total=  20.5s\n",
      "[CV] learning_rate=0.05, max_depth=10, n_estimators=500 ..............\n",
      "[CV]  learning_rate=0.05, max_depth=10, n_estimators=500, total=  18.4s\n",
      "[CV] learning_rate=0.05, max_depth=10, n_estimators=500 ..............\n",
      "[CV]  learning_rate=0.05, max_depth=10, n_estimators=500, total=  19.5s\n",
      "[CV] learning_rate=0.05, max_depth=10, n_estimators=1000 .............\n",
      "[CV]  learning_rate=0.05, max_depth=10, n_estimators=1000, total=  42.8s\n",
      "[CV] learning_rate=0.05, max_depth=10, n_estimators=1000 .............\n",
      "[CV]  learning_rate=0.05, max_depth=10, n_estimators=1000, total=  38.0s\n",
      "[CV] learning_rate=0.05, max_depth=10, n_estimators=1000 .............\n",
      "[CV]  learning_rate=0.05, max_depth=10, n_estimators=1000, total=  39.2s\n",
      "[CV] learning_rate=0.05, max_depth=10, n_estimators=1000 .............\n",
      "[CV]  learning_rate=0.05, max_depth=10, n_estimators=1000, total=  37.9s\n",
      "[CV] learning_rate=0.1, max_depth=3, n_estimators=100 ................\n",
      "[CV] . learning_rate=0.1, max_depth=3, n_estimators=100, total=   1.1s\n",
      "[CV] learning_rate=0.1, max_depth=3, n_estimators=100 ................\n",
      "[CV] . learning_rate=0.1, max_depth=3, n_estimators=100, total=   1.2s\n",
      "[CV] learning_rate=0.1, max_depth=3, n_estimators=100 ................\n",
      "[CV] . learning_rate=0.1, max_depth=3, n_estimators=100, total=   1.3s\n",
      "[CV] learning_rate=0.1, max_depth=3, n_estimators=100 ................\n",
      "[CV] . learning_rate=0.1, max_depth=3, n_estimators=100, total=   1.3s\n",
      "[CV] learning_rate=0.1, max_depth=3, n_estimators=500 ................\n",
      "[CV] . learning_rate=0.1, max_depth=3, n_estimators=500, total=   6.0s\n",
      "[CV] learning_rate=0.1, max_depth=3, n_estimators=500 ................\n",
      "[CV] . learning_rate=0.1, max_depth=3, n_estimators=500, total=   6.4s\n",
      "[CV] learning_rate=0.1, max_depth=3, n_estimators=500 ................\n",
      "[CV] . learning_rate=0.1, max_depth=3, n_estimators=500, total=   8.2s\n",
      "[CV] learning_rate=0.1, max_depth=3, n_estimators=500 ................\n",
      "[CV] . learning_rate=0.1, max_depth=3, n_estimators=500, total=   5.2s\n",
      "[CV] learning_rate=0.1, max_depth=3, n_estimators=1000 ...............\n",
      "[CV]  learning_rate=0.1, max_depth=3, n_estimators=1000, total=  10.9s\n",
      "[CV] learning_rate=0.1, max_depth=3, n_estimators=1000 ...............\n",
      "[CV]  learning_rate=0.1, max_depth=3, n_estimators=1000, total=  14.7s\n",
      "[CV] learning_rate=0.1, max_depth=3, n_estimators=1000 ...............\n",
      "[CV]  learning_rate=0.1, max_depth=3, n_estimators=1000, total=  10.8s\n",
      "[CV] learning_rate=0.1, max_depth=3, n_estimators=1000 ...............\n",
      "[CV]  learning_rate=0.1, max_depth=3, n_estimators=1000, total=  10.4s\n",
      "[CV] learning_rate=0.1, max_depth=5, n_estimators=100 ................\n",
      "[CV] . learning_rate=0.1, max_depth=5, n_estimators=100, total=   1.8s\n",
      "[CV] learning_rate=0.1, max_depth=5, n_estimators=100 ................\n",
      "[CV] . learning_rate=0.1, max_depth=5, n_estimators=100, total=   1.8s\n",
      "[CV] learning_rate=0.1, max_depth=5, n_estimators=100 ................\n",
      "[CV] . learning_rate=0.1, max_depth=5, n_estimators=100, total=   1.8s\n",
      "[CV] learning_rate=0.1, max_depth=5, n_estimators=100 ................\n",
      "[CV] . learning_rate=0.1, max_depth=5, n_estimators=100, total=   1.8s\n",
      "[CV] learning_rate=0.1, max_depth=5, n_estimators=500 ................\n",
      "[CV] . learning_rate=0.1, max_depth=5, n_estimators=500, total=   9.4s\n",
      "[CV] learning_rate=0.1, max_depth=5, n_estimators=500 ................\n",
      "[CV] . learning_rate=0.1, max_depth=5, n_estimators=500, total=   8.7s\n",
      "[CV] learning_rate=0.1, max_depth=5, n_estimators=500 ................\n",
      "[CV] . learning_rate=0.1, max_depth=5, n_estimators=500, total=   8.6s\n",
      "[CV] learning_rate=0.1, max_depth=5, n_estimators=500 ................\n",
      "[CV] . learning_rate=0.1, max_depth=5, n_estimators=500, total=   8.6s\n",
      "[CV] learning_rate=0.1, max_depth=5, n_estimators=1000 ...............\n",
      "[CV]  learning_rate=0.1, max_depth=5, n_estimators=1000, total=  17.0s\n",
      "[CV] learning_rate=0.1, max_depth=5, n_estimators=1000 ...............\n",
      "[CV]  learning_rate=0.1, max_depth=5, n_estimators=1000, total=  17.2s\n",
      "[CV] learning_rate=0.1, max_depth=5, n_estimators=1000 ...............\n",
      "[CV]  learning_rate=0.1, max_depth=5, n_estimators=1000, total=  17.0s\n",
      "[CV] learning_rate=0.1, max_depth=5, n_estimators=1000 ...............\n",
      "[CV]  learning_rate=0.1, max_depth=5, n_estimators=1000, total=  17.0s\n",
      "[CV] learning_rate=0.1, max_depth=8, n_estimators=100 ................\n",
      "[CV] . learning_rate=0.1, max_depth=8, n_estimators=100, total=   2.8s\n",
      "[CV] learning_rate=0.1, max_depth=8, n_estimators=100 ................\n",
      "[CV] . learning_rate=0.1, max_depth=8, n_estimators=100, total=   2.8s\n",
      "[CV] learning_rate=0.1, max_depth=8, n_estimators=100 ................\n",
      "[CV] . learning_rate=0.1, max_depth=8, n_estimators=100, total=   2.8s\n",
      "[CV] learning_rate=0.1, max_depth=8, n_estimators=100 ................\n",
      "[CV] . learning_rate=0.1, max_depth=8, n_estimators=100, total=   2.8s\n",
      "[CV] learning_rate=0.1, max_depth=8, n_estimators=500 ................\n",
      "[CV] . learning_rate=0.1, max_depth=8, n_estimators=500, total=  13.8s\n",
      "[CV] learning_rate=0.1, max_depth=8, n_estimators=500 ................\n",
      "[CV] . learning_rate=0.1, max_depth=8, n_estimators=500, total=  13.7s\n",
      "[CV] learning_rate=0.1, max_depth=8, n_estimators=500 ................\n",
      "[CV] . learning_rate=0.1, max_depth=8, n_estimators=500, total=  13.9s\n",
      "[CV] learning_rate=0.1, max_depth=8, n_estimators=500 ................\n",
      "[CV] . learning_rate=0.1, max_depth=8, n_estimators=500, total=  13.8s\n",
      "[CV] learning_rate=0.1, max_depth=8, n_estimators=1000 ...............\n",
      "[CV]  learning_rate=0.1, max_depth=8, n_estimators=1000, total=  27.7s\n",
      "[CV] learning_rate=0.1, max_depth=8, n_estimators=1000 ...............\n",
      "[CV]  learning_rate=0.1, max_depth=8, n_estimators=1000, total=  27.5s\n",
      "[CV] learning_rate=0.1, max_depth=8, n_estimators=1000 ...............\n",
      "[CV]  learning_rate=0.1, max_depth=8, n_estimators=1000, total=  27.5s\n",
      "[CV] learning_rate=0.1, max_depth=8, n_estimators=1000 ...............\n",
      "[CV]  learning_rate=0.1, max_depth=8, n_estimators=1000, total=  27.5s\n",
      "[CV] learning_rate=0.1, max_depth=10, n_estimators=100 ...............\n",
      "[CV]  learning_rate=0.1, max_depth=10, n_estimators=100, total=   3.5s\n",
      "[CV] learning_rate=0.1, max_depth=10, n_estimators=100 ...............\n",
      "[CV]  learning_rate=0.1, max_depth=10, n_estimators=100, total=   3.5s\n",
      "[CV] learning_rate=0.1, max_depth=10, n_estimators=100 ...............\n",
      "[CV]  learning_rate=0.1, max_depth=10, n_estimators=100, total=   3.5s\n",
      "[CV] learning_rate=0.1, max_depth=10, n_estimators=100 ...............\n",
      "[CV]  learning_rate=0.1, max_depth=10, n_estimators=100, total=   3.5s\n",
      "[CV] learning_rate=0.1, max_depth=10, n_estimators=500 ...............\n",
      "[CV]  learning_rate=0.1, max_depth=10, n_estimators=500, total=  18.2s\n",
      "[CV] learning_rate=0.1, max_depth=10, n_estimators=500 ...............\n",
      "[CV]  learning_rate=0.1, max_depth=10, n_estimators=500, total=  17.6s\n",
      "[CV] learning_rate=0.1, max_depth=10, n_estimators=500 ...............\n",
      "[CV]  learning_rate=0.1, max_depth=10, n_estimators=500, total=  17.7s\n",
      "[CV] learning_rate=0.1, max_depth=10, n_estimators=500 ...............\n",
      "[CV]  learning_rate=0.1, max_depth=10, n_estimators=500, total=  17.6s\n",
      "[CV] learning_rate=0.1, max_depth=10, n_estimators=1000 ..............\n",
      "[CV]  learning_rate=0.1, max_depth=10, n_estimators=1000, total=  35.2s\n",
      "[CV] learning_rate=0.1, max_depth=10, n_estimators=1000 ..............\n",
      "[CV]  learning_rate=0.1, max_depth=10, n_estimators=1000, total=  35.5s\n",
      "[CV] learning_rate=0.1, max_depth=10, n_estimators=1000 ..............\n",
      "[CV]  learning_rate=0.1, max_depth=10, n_estimators=1000, total=  35.4s\n",
      "[CV] learning_rate=0.1, max_depth=10, n_estimators=1000 ..............\n",
      "[CV]  learning_rate=0.1, max_depth=10, n_estimators=1000, total=  35.3s\n",
      "[CV] learning_rate=0.2, max_depth=3, n_estimators=100 ................\n",
      "[CV] . learning_rate=0.2, max_depth=3, n_estimators=100, total=   1.2s\n",
      "[CV] learning_rate=0.2, max_depth=3, n_estimators=100 ................\n",
      "[CV] . learning_rate=0.2, max_depth=3, n_estimators=100, total=   1.2s\n",
      "[CV] learning_rate=0.2, max_depth=3, n_estimators=100 ................\n",
      "[CV] . learning_rate=0.2, max_depth=3, n_estimators=100, total=   1.2s\n",
      "[CV] learning_rate=0.2, max_depth=3, n_estimators=100 ................\n",
      "[CV] . learning_rate=0.2, max_depth=3, n_estimators=100, total=   1.2s\n",
      "[CV] learning_rate=0.2, max_depth=3, n_estimators=500 ................\n",
      "[CV] . learning_rate=0.2, max_depth=3, n_estimators=500, total=   5.3s\n",
      "[CV] learning_rate=0.2, max_depth=3, n_estimators=500 ................\n",
      "[CV] . learning_rate=0.2, max_depth=3, n_estimators=500, total=   5.3s\n",
      "[CV] learning_rate=0.2, max_depth=3, n_estimators=500 ................\n",
      "[CV] . learning_rate=0.2, max_depth=3, n_estimators=500, total=   5.3s\n",
      "[CV] learning_rate=0.2, max_depth=3, n_estimators=500 ................\n",
      "[CV] . learning_rate=0.2, max_depth=3, n_estimators=500, total=   5.3s\n",
      "[CV] learning_rate=0.2, max_depth=3, n_estimators=1000 ...............\n",
      "[CV]  learning_rate=0.2, max_depth=3, n_estimators=1000, total=  10.7s\n",
      "[CV] learning_rate=0.2, max_depth=3, n_estimators=1000 ...............\n",
      "[CV]  learning_rate=0.2, max_depth=3, n_estimators=1000, total=  10.5s\n",
      "[CV] learning_rate=0.2, max_depth=3, n_estimators=1000 ...............\n",
      "[CV]  learning_rate=0.2, max_depth=3, n_estimators=1000, total=  10.5s\n",
      "[CV] learning_rate=0.2, max_depth=3, n_estimators=1000 ...............\n",
      "[CV]  learning_rate=0.2, max_depth=3, n_estimators=1000, total=  10.6s\n",
      "[CV] learning_rate=0.2, max_depth=5, n_estimators=100 ................\n",
      "[CV] . learning_rate=0.2, max_depth=5, n_estimators=100, total=   1.8s\n",
      "[CV] learning_rate=0.2, max_depth=5, n_estimators=100 ................\n",
      "[CV] . learning_rate=0.2, max_depth=5, n_estimators=100, total=   1.8s\n",
      "[CV] learning_rate=0.2, max_depth=5, n_estimators=100 ................\n",
      "[CV] . learning_rate=0.2, max_depth=5, n_estimators=100, total=   1.8s\n",
      "[CV] learning_rate=0.2, max_depth=5, n_estimators=100 ................\n",
      "[CV] . learning_rate=0.2, max_depth=5, n_estimators=100, total=   1.9s\n",
      "[CV] learning_rate=0.2, max_depth=5, n_estimators=500 ................\n",
      "[CV] . learning_rate=0.2, max_depth=5, n_estimators=500, total=   8.6s\n",
      "[CV] learning_rate=0.2, max_depth=5, n_estimators=500 ................\n",
      "[CV] . learning_rate=0.2, max_depth=5, n_estimators=500, total=   8.6s\n",
      "[CV] learning_rate=0.2, max_depth=5, n_estimators=500 ................\n",
      "[CV] . learning_rate=0.2, max_depth=5, n_estimators=500, total=   9.8s\n",
      "[CV] learning_rate=0.2, max_depth=5, n_estimators=500 ................\n",
      "[CV] . learning_rate=0.2, max_depth=5, n_estimators=500, total=   9.9s\n",
      "[CV] learning_rate=0.2, max_depth=5, n_estimators=1000 ...............\n",
      "[CV]  learning_rate=0.2, max_depth=5, n_estimators=1000, total=  17.1s\n",
      "[CV] learning_rate=0.2, max_depth=5, n_estimators=1000 ...............\n",
      "[CV]  learning_rate=0.2, max_depth=5, n_estimators=1000, total=  17.0s\n",
      "[CV] learning_rate=0.2, max_depth=5, n_estimators=1000 ...............\n",
      "[CV]  learning_rate=0.2, max_depth=5, n_estimators=1000, total=  17.2s\n",
      "[CV] learning_rate=0.2, max_depth=5, n_estimators=1000 ...............\n",
      "[CV]  learning_rate=0.2, max_depth=5, n_estimators=1000, total=  17.0s\n",
      "[CV] learning_rate=0.2, max_depth=8, n_estimators=100 ................\n",
      "[CV] . learning_rate=0.2, max_depth=8, n_estimators=100, total=   2.9s\n",
      "[CV] learning_rate=0.2, max_depth=8, n_estimators=100 ................\n",
      "[CV] . learning_rate=0.2, max_depth=8, n_estimators=100, total=   2.9s\n",
      "[CV] learning_rate=0.2, max_depth=8, n_estimators=100 ................\n",
      "[CV] . learning_rate=0.2, max_depth=8, n_estimators=100, total=   2.9s\n",
      "[CV] learning_rate=0.2, max_depth=8, n_estimators=100 ................\n",
      "[CV] . learning_rate=0.2, max_depth=8, n_estimators=100, total=   2.9s\n",
      "[CV] learning_rate=0.2, max_depth=8, n_estimators=500 ................\n",
      "[CV] . learning_rate=0.2, max_depth=8, n_estimators=500, total=  14.0s\n",
      "[CV] learning_rate=0.2, max_depth=8, n_estimators=500 ................\n",
      "[CV] . learning_rate=0.2, max_depth=8, n_estimators=500, total=  13.8s\n",
      "[CV] learning_rate=0.2, max_depth=8, n_estimators=500 ................\n",
      "[CV] . learning_rate=0.2, max_depth=8, n_estimators=500, total=  13.9s\n",
      "[CV] learning_rate=0.2, max_depth=8, n_estimators=500 ................\n",
      "[CV] . learning_rate=0.2, max_depth=8, n_estimators=500, total=  13.8s\n",
      "[CV] learning_rate=0.2, max_depth=8, n_estimators=1000 ...............\n",
      "[CV]  learning_rate=0.2, max_depth=8, n_estimators=1000, total=  27.8s\n",
      "[CV] learning_rate=0.2, max_depth=8, n_estimators=1000 ...............\n",
      "[CV]  learning_rate=0.2, max_depth=8, n_estimators=1000, total=  27.6s\n",
      "[CV] learning_rate=0.2, max_depth=8, n_estimators=1000 ...............\n",
      "[CV]  learning_rate=0.2, max_depth=8, n_estimators=1000, total=  27.6s\n",
      "[CV] learning_rate=0.2, max_depth=8, n_estimators=1000 ...............\n",
      "[CV]  learning_rate=0.2, max_depth=8, n_estimators=1000, total=  27.6s\n",
      "[CV] learning_rate=0.2, max_depth=10, n_estimators=100 ...............\n",
      "[CV]  learning_rate=0.2, max_depth=10, n_estimators=100, total=   3.6s\n",
      "[CV] learning_rate=0.2, max_depth=10, n_estimators=100 ...............\n",
      "[CV]  learning_rate=0.2, max_depth=10, n_estimators=100, total=   3.6s\n",
      "[CV] learning_rate=0.2, max_depth=10, n_estimators=100 ...............\n",
      "[CV]  learning_rate=0.2, max_depth=10, n_estimators=100, total=   3.6s\n",
      "[CV] learning_rate=0.2, max_depth=10, n_estimators=100 ...............\n",
      "[CV]  learning_rate=0.2, max_depth=10, n_estimators=100, total=   3.7s\n",
      "[CV] learning_rate=0.2, max_depth=10, n_estimators=500 ...............\n",
      "[CV]  learning_rate=0.2, max_depth=10, n_estimators=500, total=  23.2s\n",
      "[CV] learning_rate=0.2, max_depth=10, n_estimators=500 ...............\n",
      "[CV]  learning_rate=0.2, max_depth=10, n_estimators=500, total=  21.3s\n",
      "[CV] learning_rate=0.2, max_depth=10, n_estimators=500 ...............\n",
      "[CV]  learning_rate=0.2, max_depth=10, n_estimators=500, total=  18.7s\n",
      "[CV] learning_rate=0.2, max_depth=10, n_estimators=500 ...............\n",
      "[CV]  learning_rate=0.2, max_depth=10, n_estimators=500, total=  18.6s\n",
      "[CV] learning_rate=0.2, max_depth=10, n_estimators=1000 ..............\n",
      "[CV]  learning_rate=0.2, max_depth=10, n_estimators=1000, total=  38.2s\n",
      "[CV] learning_rate=0.2, max_depth=10, n_estimators=1000 ..............\n",
      "[CV]  learning_rate=0.2, max_depth=10, n_estimators=1000, total=  38.7s\n",
      "[CV] learning_rate=0.2, max_depth=10, n_estimators=1000 ..............\n",
      "[CV]  learning_rate=0.2, max_depth=10, n_estimators=1000, total=  40.0s\n",
      "[CV] learning_rate=0.2, max_depth=10, n_estimators=1000 ..............\n",
      "[CV]  learning_rate=0.2, max_depth=10, n_estimators=1000, total=  44.2s\n",
      "[CV] learning_rate=0.3, max_depth=3, n_estimators=100 ................\n",
      "[CV] . learning_rate=0.3, max_depth=3, n_estimators=100, total=   1.2s\n",
      "[CV] learning_rate=0.3, max_depth=3, n_estimators=100 ................\n",
      "[CV] . learning_rate=0.3, max_depth=3, n_estimators=100, total=   1.4s\n",
      "[CV] learning_rate=0.3, max_depth=3, n_estimators=100 ................\n",
      "[CV] . learning_rate=0.3, max_depth=3, n_estimators=100, total=   1.5s\n",
      "[CV] learning_rate=0.3, max_depth=3, n_estimators=100 ................\n",
      "[CV] . learning_rate=0.3, max_depth=3, n_estimators=100, total=   1.3s\n",
      "[CV] learning_rate=0.3, max_depth=3, n_estimators=500 ................\n",
      "[CV] . learning_rate=0.3, max_depth=3, n_estimators=500, total=   5.6s\n",
      "[CV] learning_rate=0.3, max_depth=3, n_estimators=500 ................\n",
      "[CV] . learning_rate=0.3, max_depth=3, n_estimators=500, total=   6.5s\n",
      "[CV] learning_rate=0.3, max_depth=3, n_estimators=500 ................\n",
      "[CV] . learning_rate=0.3, max_depth=3, n_estimators=500, total=   7.0s\n",
      "[CV] learning_rate=0.3, max_depth=3, n_estimators=500 ................\n",
      "[CV] . learning_rate=0.3, max_depth=3, n_estimators=500, total=   7.3s\n",
      "[CV] learning_rate=0.3, max_depth=3, n_estimators=1000 ...............\n",
      "[CV]  learning_rate=0.3, max_depth=3, n_estimators=1000, total=  11.1s\n",
      "[CV] learning_rate=0.3, max_depth=3, n_estimators=1000 ...............\n",
      "[CV]  learning_rate=0.3, max_depth=3, n_estimators=1000, total=  11.0s\n",
      "[CV] learning_rate=0.3, max_depth=3, n_estimators=1000 ...............\n",
      "[CV]  learning_rate=0.3, max_depth=3, n_estimators=1000, total=  10.7s\n",
      "[CV] learning_rate=0.3, max_depth=3, n_estimators=1000 ...............\n",
      "[CV]  learning_rate=0.3, max_depth=3, n_estimators=1000, total=  10.8s\n",
      "[CV] learning_rate=0.3, max_depth=5, n_estimators=100 ................\n",
      "[CV] . learning_rate=0.3, max_depth=5, n_estimators=100, total=   2.0s\n",
      "[CV] learning_rate=0.3, max_depth=5, n_estimators=100 ................\n",
      "[CV] . learning_rate=0.3, max_depth=5, n_estimators=100, total=   1.9s\n",
      "[CV] learning_rate=0.3, max_depth=5, n_estimators=100 ................\n",
      "[CV] . learning_rate=0.3, max_depth=5, n_estimators=100, total=   1.8s\n",
      "[CV] learning_rate=0.3, max_depth=5, n_estimators=100 ................\n",
      "[CV] . learning_rate=0.3, max_depth=5, n_estimators=100, total=   2.3s\n",
      "[CV] learning_rate=0.3, max_depth=5, n_estimators=500 ................\n",
      "[CV] . learning_rate=0.3, max_depth=5, n_estimators=500, total=   8.7s\n",
      "[CV] learning_rate=0.3, max_depth=5, n_estimators=500 ................\n",
      "[CV] . learning_rate=0.3, max_depth=5, n_estimators=500, total=   8.8s\n",
      "[CV] learning_rate=0.3, max_depth=5, n_estimators=500 ................\n",
      "[CV] . learning_rate=0.3, max_depth=5, n_estimators=500, total=   8.9s\n",
      "[CV] learning_rate=0.3, max_depth=5, n_estimators=500 ................\n",
      "[CV] . learning_rate=0.3, max_depth=5, n_estimators=500, total=   8.8s\n",
      "[CV] learning_rate=0.3, max_depth=5, n_estimators=1000 ...............\n",
      "[CV]  learning_rate=0.3, max_depth=5, n_estimators=1000, total=  20.0s\n",
      "[CV] learning_rate=0.3, max_depth=5, n_estimators=1000 ...............\n",
      "[CV]  learning_rate=0.3, max_depth=5, n_estimators=1000, total=  19.8s\n",
      "[CV] learning_rate=0.3, max_depth=5, n_estimators=1000 ...............\n",
      "[CV]  learning_rate=0.3, max_depth=5, n_estimators=1000, total=  17.9s\n",
      "[CV] learning_rate=0.3, max_depth=5, n_estimators=1000 ...............\n",
      "[CV]  learning_rate=0.3, max_depth=5, n_estimators=1000, total=  18.5s\n",
      "[CV] learning_rate=0.3, max_depth=8, n_estimators=100 ................\n",
      "[CV] . learning_rate=0.3, max_depth=8, n_estimators=100, total=   3.1s\n",
      "[CV] learning_rate=0.3, max_depth=8, n_estimators=100 ................\n",
      "[CV] . learning_rate=0.3, max_depth=8, n_estimators=100, total=   2.9s\n",
      "[CV] learning_rate=0.3, max_depth=8, n_estimators=100 ................\n",
      "[CV] . learning_rate=0.3, max_depth=8, n_estimators=100, total=   3.0s\n",
      "[CV] learning_rate=0.3, max_depth=8, n_estimators=100 ................\n",
      "[CV] . learning_rate=0.3, max_depth=8, n_estimators=100, total=   3.0s\n",
      "[CV] learning_rate=0.3, max_depth=8, n_estimators=500 ................\n",
      "[CV] . learning_rate=0.3, max_depth=8, n_estimators=500, total=  15.7s\n",
      "[CV] learning_rate=0.3, max_depth=8, n_estimators=500 ................\n",
      "[CV] . learning_rate=0.3, max_depth=8, n_estimators=500, total=  14.1s\n",
      "[CV] learning_rate=0.3, max_depth=8, n_estimators=500 ................\n",
      "[CV] . learning_rate=0.3, max_depth=8, n_estimators=500, total=  14.1s\n",
      "[CV] learning_rate=0.3, max_depth=8, n_estimators=500 ................\n",
      "[CV] . learning_rate=0.3, max_depth=8, n_estimators=500, total=  14.2s\n",
      "[CV] learning_rate=0.3, max_depth=8, n_estimators=1000 ...............\n",
      "[CV]  learning_rate=0.3, max_depth=8, n_estimators=1000, total=  27.9s\n",
      "[CV] learning_rate=0.3, max_depth=8, n_estimators=1000 ...............\n",
      "[CV]  learning_rate=0.3, max_depth=8, n_estimators=1000, total=  27.8s\n",
      "[CV] learning_rate=0.3, max_depth=8, n_estimators=1000 ...............\n",
      "[CV]  learning_rate=0.3, max_depth=8, n_estimators=1000, total=  28.1s\n",
      "[CV] learning_rate=0.3, max_depth=8, n_estimators=1000 ...............\n",
      "[CV]  learning_rate=0.3, max_depth=8, n_estimators=1000, total=  27.8s\n",
      "[CV] learning_rate=0.3, max_depth=10, n_estimators=100 ...............\n",
      "[CV]  learning_rate=0.3, max_depth=10, n_estimators=100, total=   3.7s\n",
      "[CV] learning_rate=0.3, max_depth=10, n_estimators=100 ...............\n",
      "[CV]  learning_rate=0.3, max_depth=10, n_estimators=100, total=   4.3s\n",
      "[CV] learning_rate=0.3, max_depth=10, n_estimators=100 ...............\n",
      "[CV]  learning_rate=0.3, max_depth=10, n_estimators=100, total=   3.8s\n",
      "[CV] learning_rate=0.3, max_depth=10, n_estimators=100 ...............\n",
      "[CV]  learning_rate=0.3, max_depth=10, n_estimators=100, total=   3.7s\n",
      "[CV] learning_rate=0.3, max_depth=10, n_estimators=500 ...............\n",
      "[CV]  learning_rate=0.3, max_depth=10, n_estimators=500, total=  18.0s\n",
      "[CV] learning_rate=0.3, max_depth=10, n_estimators=500 ...............\n",
      "[CV]  learning_rate=0.3, max_depth=10, n_estimators=500, total=  18.0s\n",
      "[CV] learning_rate=0.3, max_depth=10, n_estimators=500 ...............\n",
      "[CV]  learning_rate=0.3, max_depth=10, n_estimators=500, total=  18.0s\n",
      "[CV] learning_rate=0.3, max_depth=10, n_estimators=500 ...............\n",
      "[CV]  learning_rate=0.3, max_depth=10, n_estimators=500, total=  18.0s\n",
      "[CV] learning_rate=0.3, max_depth=10, n_estimators=1000 ..............\n",
      "[CV]  learning_rate=0.3, max_depth=10, n_estimators=1000, total=  29.7s\n",
      "[CV] learning_rate=0.3, max_depth=10, n_estimators=1000 ..............\n",
      "[CV]  learning_rate=0.3, max_depth=10, n_estimators=1000, total=  29.9s\n",
      "[CV] learning_rate=0.3, max_depth=10, n_estimators=1000 ..............\n",
      "[CV]  learning_rate=0.3, max_depth=10, n_estimators=1000, total=  30.1s\n",
      "[CV] learning_rate=0.3, max_depth=10, n_estimators=1000 ..............\n",
      "[CV]  learning_rate=0.3, max_depth=10, n_estimators=1000, total=  28.2s\n"
     ]
    },
    {
     "name": "stderr",
     "output_type": "stream",
     "text": [
      "[Parallel(n_jobs=1)]: Done 192 out of 192 | elapsed: 40.4min finished\n"
     ]
    },
    {
     "data": {
      "text/plain": [
       "GridSearchCV(cv=4,\n",
       "             estimator=XGBRegressor(base_score=None, booster=None,\n",
       "                                    colsample_bylevel=None,\n",
       "                                    colsample_bynode=None,\n",
       "                                    colsample_bytree=None, gamma=None,\n",
       "                                    gpu_id=None, importance_type='gain',\n",
       "                                    interaction_constraints=None,\n",
       "                                    learning_rate=None, max_delta_step=None,\n",
       "                                    max_depth=None, min_child_weight=None,\n",
       "                                    missing=nan, monotone_constraints=None,\n",
       "                                    n_estimators=100, n_jobs=None,\n",
       "                                    num_parallel_tree=None, random_state=None,\n",
       "                                    reg_alpha=None, reg_lambda=None,\n",
       "                                    scale_pos_weight=None, subsample=None,\n",
       "                                    tree_method=None, validate_parameters=False,\n",
       "                                    verbosity=None),\n",
       "             param_grid={'learning_rate': [0.05, 0.1, 0.2, 0.3],\n",
       "                         'max_depth': [3, 5, 8, 10],\n",
       "                         'n_estimators': [100, 500, 1000]},\n",
       "             verbose=2)"
      ]
     },
     "execution_count": 110,
     "metadata": {},
     "output_type": "execute_result"
    }
   ],
   "source": [
    "xgbr = xgb.XGBRegressor()\n",
    "p_xgbr = {'max_depth':[3, 5, 8, 10], 'n_estimators':[100,500,1000], 'learning_rate':[0.05,0.1,0.2,0.3]}  \n",
    "grid_xgbr = GridSearchCV(xgbr, p_xgbr, cv=4, verbose=2) \n",
    "grid_xgbr.fit(X_train_norm,y_train)"
   ]
  },
  {
   "cell_type": "code",
   "execution_count": 111,
   "metadata": {},
   "outputs": [
    {
     "name": "stdout",
     "output_type": "stream",
     "text": [
      "The best hyperparameter set is {'learning_rate': 0.05, 'max_depth': 8, 'n_estimators': 1000} with and R2 score of 0.9446376764447706\n"
     ]
    }
   ],
   "source": [
    "print('The best hyperparameter set is', str(grid_xgbr.best_params_), 'with and R2 score of', str(grid_xgbr.best_score_))"
   ]
  },
  {
   "cell_type": "code",
   "execution_count": 133,
   "metadata": {},
   "outputs": [
    {
     "name": "stdout",
     "output_type": "stream",
     "text": [
      "(0.9476239695586313, 0.07868149984095228)\n"
     ]
    }
   ],
   "source": [
    "## making predictions and checking the performance on the test set\n",
    "y_hat_xgb = grid_xgbr.predict(X_test_norm)\n",
    "print(score(y_hat_xgb))\n",
    "scores['XGBoost'] = score(y_hat_xgb)"
   ]
  },
  {
   "cell_type": "markdown",
   "metadata": {},
   "source": [
    "## **Results and Discussion**"
   ]
  },
  {
   "cell_type": "markdown",
   "metadata": {},
   "source": [
    "First let's plot the R2 value on the dev set obtained (actually the mean value across the multiple folds) for the different models. We have stored the R2 values and COV values in a dictionary."
   ]
  },
  {
   "cell_type": "code",
   "execution_count": 159,
   "metadata": {},
   "outputs": [
    {
     "data": {
      "text/plain": [
       "{'Ridge': (0.8858918147523764, 0.12270819358967232),\n",
       " 'Lasso': (0.885240999942356, 0.12245624939959383),\n",
       " 'Decision Tree': (0.9070696036470141, 0.10579762537587199),\n",
       " 'Random Forest': (0.9380977021769521, 0.08519451482205025),\n",
       " 'Gradient Boosting': (0.9436635004700921, 0.08224753928494487),\n",
       " 'XGBoost': (0.9476239695586313, 0.07868149984095228)}"
      ]
     },
     "execution_count": 159,
     "metadata": {},
     "output_type": "execute_result"
    }
   ],
   "source": [
    "scores"
   ]
  },
  {
   "cell_type": "code",
   "execution_count": 186,
   "metadata": {},
   "outputs": [],
   "source": [
    "#fetching the values from the dictionary to create the plot\n",
    "x = [key for key in scores.keys()]\n",
    "y = [scores[key][0] for key in scores.keys()]"
   ]
  },
  {
   "cell_type": "code",
   "execution_count": 202,
   "metadata": {},
   "outputs": [
    {
     "data": {
      "text/plain": [
       "[<matplotlib.lines.Line2D at 0x7fc19c38c310>]"
      ]
     },
     "execution_count": 202,
     "metadata": {},
     "output_type": "execute_result"
    },
    {
     "data": {
      "image/png": "[encoded data removed]",
      "text/plain": [
       "<Figure size 1080x576 with 1 Axes>"
      ]
     },
     "metadata": {
      "needs_background": "light"
     },
     "output_type": "display_data"
    }
   ],
   "source": [
    "plt.figure(figsize=(15,8))\n",
    "plt.title('R2 scores for the different models', fontdict={'fontsize':20}, pad=10)\n",
    "plt.xlabel('Model', fontdict={'fontsize':16})\n",
    "plt.ylabel('R2 Score', fontdict={'fontsize':16})\n",
    "plt.plot(x, y)"
   ]
  },
  {
   "cell_type": "markdown",
   "metadata": {},
   "source": [
    "As observed, the **XGBoost algorithm** performs the best with an R2 score of around **0.95**. An important point to note is that there is a significant improvement when using ensemble learning methods like Random Forests, GBM and XGBoost."
   ]
  },
  {
   "cell_type": "code",
   "execution_count": 185,
   "metadata": {},
   "outputs": [
    {
     "data": {
      "text/plain": [
       "array([0.74830438, 0.91114014, 0.92466974, 0.81078924, 0.9314969 ,\n",
       "       0.93896269, 0.85196758, 0.94272988, 0.94463768, 0.86521525,\n",
       "       0.94416712, 0.94349013, 0.86824612, 0.92588916, 0.93381419,\n",
       "       0.90993029, 0.93953111, 0.94304554, 0.93176738, 0.94446641,\n",
       "       0.94321919, 0.9384918 , 0.94300111, 0.9392592 , 0.90640871,\n",
       "       0.93337437, 0.93836159, 0.92925367, 0.9429415 , 0.94373366,\n",
       "       0.94088495, 0.94229632, 0.93839548, 0.94288911, 0.93810741,\n",
       "       0.93249406, 0.91631297, 0.93681083, 0.9401395 , 0.93427619,\n",
       "       0.9432942 , 0.94281051, 0.94235199, 0.93875872, 0.93360723,\n",
       "       0.94212756, 0.933227  , 0.92955799])"
      ]
     },
     "execution_count": 185,
     "metadata": {},
     "output_type": "execute_result"
    }
   ],
   "source": [
    "grid_xgbr.cv_results_['mean_test_score']"
   ]
  },
  {
   "cell_type": "code",
   "execution_count": null,
   "metadata": {},
   "outputs": [],
   "source": []
  }
 ],
 "metadata": {
  "kernelspec": {
   "display_name": "Python 3",
   "language": "python",
   "name": "python3"
  },
  "language_info": {
   "codemirror_mode": {
    "name": "ipython",
    "version": 3
   },
   "file_extension": ".py",
   "mimetype": "text/x-python",
   "name": "python",
   "nbconvert_exporter": "python",
   "pygments_lexer": "ipython3",
   "version": "3.7.6"
  }
 },
 "nbformat": 4,
 "nbformat_minor": 4
}
